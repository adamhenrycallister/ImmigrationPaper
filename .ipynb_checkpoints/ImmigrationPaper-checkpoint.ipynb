{
 "cells": [
  {
   "cell_type": "markdown",
   "metadata": {},
   "source": [
    "# Immigration, Deportation, and Discrimination: Hispanic Political Opinion Since the Election of Donald Trump\n"
   ]
  },
  {
   "cell_type": "code",
   "execution_count": 1,
   "metadata": {
    "code_folding": [
     0
    ]
   },
   "outputs": [
    {
     "name": "stderr",
     "output_type": "stream",
     "text": [
      "\n",
      "Please cite as: \n",
      "\n",
      "\n",
      " Hlavac, Marek (2018). stargazer: Well-Formatted Regression and Summary Statistics Tables.\n",
      "\n",
      " R package version 5.2.2. https://CRAN.R-project.org/package=stargazer \n",
      "\n",
      "\n",
      "Loading required package: zoo\n",
      "\n",
      "\n",
      "Attaching package: ‘zoo’\n",
      "\n",
      "\n",
      "The following objects are masked from ‘package:base’:\n",
      "\n",
      "    as.Date, as.Date.numeric\n",
      "\n",
      "\n",
      "Loading required package: vars\n",
      "\n",
      "Loading required package: MASS\n",
      "\n",
      "Loading required package: strucchange\n",
      "\n",
      "Loading required package: sandwich\n",
      "\n",
      "\n",
      "Attaching package: ‘strucchange’\n",
      "\n",
      "\n",
      "The following object is masked from ‘package:stringr’:\n",
      "\n",
      "    boundary\n",
      "\n",
      "\n",
      "Loading required package: urca\n",
      "\n",
      "Loading required package: miscTools\n",
      "\n",
      "\n",
      "Please cite the 'maxLik' package as:\n",
      "Henningsen, Arne and Toomet, Ott (2011). maxLik: A package for maximum likelihood estimation in R. Computational Statistics 26(3), 443-458. DOI 10.1007/s00180-010-0217-1.\n",
      "\n",
      "If you have questions, suggestions, or comments regarding the 'maxLik' package, please use a forum or 'tracker' at maxLik's R-Forge site:\n",
      "https://r-forge.r-project.org/projects/maxlik/\n",
      "\n",
      "Classes and Methods for R developed in the\n",
      "Political Science Computational Laboratory\n",
      "Department of Political Science\n",
      "Stanford University\n",
      "Simon Jackman\n",
      "hurdle and zeroinfl functions by Achim Zeileis\n",
      "\n"
     ]
    }
   ],
   "source": [
    "#Packages\n",
    "library(InformationValue)\n",
    "library(stringr)\n",
    "library(data.table)\n",
    "library(scales)\n",
    "library(stargazer)\n",
    "library(multiwayvcov)\n",
    "library(lmtest)\n",
    "library(het.test)\n",
    "library(sandwich)\n",
    "library(margins)\n",
    "library(maxLik)\n",
    "library(pscl)\n",
    "library(BaylorEdPsych)\n"
   ]
  },
  {
   "cell_type": "markdown",
   "metadata": {},
   "source": [
    "Survey Questions:\n",
    "\n",
    "**Q4** What country were you born in?\n",
    "\n",
    "**Q5** How long have you lived in the United States (including Puerto Rico)? \n",
    "\n",
    "**Q8** Mark the statement that you MOST agree with: \n",
    "> Generally, illegal immigrants should NOT be deported (1)<br>\n",
    "Generally, illegal immigrants should be deported (2)\n",
    "\n",
    "**Q11** In the 2016 Presidential Election, who did you vote for? \n",
    "> Donald Trump (1)<br>\n",
    "Hillary Clinton (2)<br>\n",
    "Other (3)<br>\n",
    "Did not vote (4)\n",
    "\n",
    "**Q17** On a scale from 1-7, how worried are you about the following situations? <br>\n",
    "(1) Not worried, (4) Somewhat worried, (7) Very worried \n",
    "> Myself or close family members being deported (1)         \n",
    "Friends or close acquaintances being deported (2)<br>\n",
    "The separation of families due to deportation (3)<br>\n",
    "The economy and/or workforce being negatively impacted due to deportations (4)\n",
    "\n",
    "**Q18** Do you personally know a Latino(a)/Hispanic who is undocumented and currently living in the United States? (Including yourself)\n",
    "\n",
    "If Yes is selected for Q18: <br>\n",
    "**Q19** To what degree do illegal immigrants you know well (including yourself) worry about participating in the following situations for fear of deportation? (Sliding Scale) <br>\n",
    "(1) Do not worry, (4) Worry somewhat, (7) Worry very much \n",
    "> Applying for scholarships or loans for education (1) <br>\n",
    "Health care and/or medical assistance (2) <br>\n",
    "Jobs (3) <br>\n",
    "Government welfare or assistance (4) <br>\n",
    "Reporting crimes (5) <br>\n",
    "Attending public schools (6)\n",
    "\n",
    "**Q20** Since the campaign and election of Donald Trump, do you feel levels of discrimination towards Latinos/Hispanics have increased? (Sliding Scale) <br>\n",
    "(1) Not at all, (4) Somewhat, (7) Very much\n",
    "\n",
    "**Q23** How old are you?\n",
    "\n",
    "**Q24** What is your gender?\n"
   ]
  },
  {
   "cell_type": "code",
   "execution_count": 2,
   "metadata": {
    "code_folding": [
     0
    ]
   },
   "outputs": [],
   "source": [
    "#Load data\n",
    "data <- read.csv(\"SurveyData.csv\", header = TRUE)"
   ]
  },
  {
   "cell_type": "code",
   "execution_count": 3,
   "metadata": {
    "code_folding": [
     0
    ]
   },
   "outputs": [],
   "source": [
    "#Define Variables\n",
    "\n",
    "#Split by region\n",
    "US <- c('USA', 'Puerto Rico')\n",
    "Central <- c('Costa Rica', 'El Salvador', 'Guatemala', 'Honduras', 'Mexico', 'Nicaragua', 'Panama')\n",
    "South <- c('Argentina', 'Bolivia', 'Brazil', 'Chile', 'Colombia', 'Ecuador', 'Paraguay', 'Peru', 'Uruguay', 'Venezuela')\n",
    "data$region <- as.factor(ifelse(data$Q4 %in% US, 'US/Puerto Rico', \n",
    "                         ifelse(data$Q4 %in% Central, 'Central America', \n",
    "                         ifelse(data$Q4 %in% South, 'South America',\n",
    "                         ifelse(data$Q4 == 'Cuba', 'Cuba', \n",
    "                         ifelse(data$Q4 == 'Other', 'Other', NA))))))\n",
    "\n",
    "#Group Ages\n",
    "data$age <- as.factor(ifelse(data$Q23 == '18-24'|data$Q23 == '25-30', '18-30', \n",
    "                      ifelse(data$Q23 == '31-40'|data$Q23 == '41-50', '31-50', \n",
    "                      ifelse(data$Q23 == '51-60'|data$Q23 == '61+', '51+', NA))))\n",
    "\n",
    "#Group Years in US\n",
    "data$yearsInUS <- as.factor(ifelse(data$Q5 == 1, '<5', \n",
    "                            ifelse(data$Q5 == 2, '6-10',\n",
    "                            ifelse(data$Q5 > 2, '11+', NA))))\n",
    "\n"
   ]
  },
  {
   "cell_type": "code",
   "execution_count": 4,
   "metadata": {
    "code_folding": [
     0
    ]
   },
   "outputs": [
    {
     "name": "stdout",
     "output_type": "stream",
     "text": [
      "[1] \"Demographic Characteristics of Sample\"\n",
      "[[1]]\n",
      "[1] \"Language\"\n",
      "\n",
      "x\n",
      " EN  ES \n",
      "925 155 \n",
      "x\n",
      "  EN   ES \n",
      "85.6 14.4 \n",
      "[1] \"NAs\"\n",
      "[1] 0\n",
      "[[1]]\n",
      "[1] \"Gender\"\n",
      "\n",
      "x\n",
      "Female   Male \n",
      "   612    452 \n",
      "x\n",
      "Female   Male \n",
      "  57.5   42.5 \n",
      "[1] \"NAs\"\n",
      "[1] 16\n",
      "[[1]]\n",
      "[1] \"Age\"\n",
      "\n",
      "x\n",
      "18-30 31-50   51+ \n",
      "  416   429   222 \n",
      "x\n",
      "18-30 31-50   51+ \n",
      " 39.0  40.2  20.8 \n",
      "[1] \"NAs\"\n",
      "[1] 13\n",
      "[[1]]\n",
      "[1] \"Region\"\n",
      "\n",
      "x\n",
      "Central America            Cuba           Other   South America  US/Puerto Rico \n",
      "            116              38              35              77             685 \n",
      "x\n",
      "Central America            Cuba           Other   South America  US/Puerto Rico \n",
      "           12.2             4.0             3.7             8.1            72.0 \n",
      "[1] \"NAs\"\n",
      "[1] 129\n",
      "[[1]]\n",
      "[1] \"Years In US\"\n",
      "\n",
      "x\n",
      "  <5  11+ 6-10 \n",
      "  94  907   66 \n",
      "x\n",
      "  <5  11+ 6-10 \n",
      " 8.8 85.0  6.2 \n",
      "[1] \"NAs\"\n",
      "[1] 13\n",
      "[[1]]\n",
      "[1] \"Know Undocumented\"\n",
      "\n",
      "x\n",
      "  0   1 \n",
      "475 590 \n",
      "x\n",
      "   0    1 \n",
      "44.6 55.4 \n",
      "[1] \"NAs\"\n",
      "[1] 15\n"
     ]
    }
   ],
   "source": [
    "#Demographic Characteristics\n",
    "print(\"Demographic Characteristics of Sample\")\n",
    "\n",
    "#change names of Q24 and Q18 to gender and knowUndocumented\n",
    "colnames(data)[colnames(data)==\"Q24\"] <- \"gender\"\n",
    "colnames(data)[colnames(data)==\"Q18\"] <- \"knowUndocumented\"\n",
    "\n",
    "#total observations\n",
    "total = nrow(data)\n",
    "\n",
    "#function to print number and percentages for each characteristic\n",
    "characteristics <- function(x, word) {\n",
    "    t <- table(x)\n",
    "    total1 <- sum(t)\n",
    "    print(word)\n",
    "    print(t)\n",
    "    print(round(100*t/total1,1))\n",
    "    print('NAs')\n",
    "    print(total - total1)\n",
    "}\n",
    "\n",
    "#use function for each characteristic \n",
    "for (x in list(list(data$Language, 'Language'), \n",
    "               list(data$gender, 'Gender'),\n",
    "               list(data$age, 'Age'),\n",
    "               list(data$region, 'Region'),\n",
    "               list(data$yearsInUS, 'Years In US'),\n",
    "               list(data$knowUndocumented, 'Know Undocumented'))) {\n",
    "    characteristics(x[1], x[2])\n",
    "}"
   ]
  },
  {
   "cell_type": "code",
   "execution_count": 5,
   "metadata": {
    "code_folding": [
     0
    ]
   },
   "outputs": [
    {
     "name": "stdout",
     "output_type": "stream",
     "text": [
      "[1] \"Do You Agree With the Statement That Generally, All Illegal Immigrants Should Be Deported?\"\n",
      "[1] \"Age\"\n",
      "         0    1\n",
      "18-30 73.7 26.3\n",
      "31-50 66.1 33.9\n",
      "51+   50.5 49.5\n"
     ]
    },
    {
     "data": {
      "text/plain": [
       "\n",
       "\tPearson's Chi-squared test\n",
       "\n",
       "data:  t\n",
       "X-squared = 34.072, df = 2, p-value = 3.993e-08\n"
      ]
     },
     "metadata": {},
     "output_type": "display_data"
    },
    {
     "name": "stdout",
     "output_type": "stream",
     "text": [
      "[1] \"Gender\"\n",
      "          0    1\n",
      "Female 69.2 30.8\n",
      "Male   60.9 39.1\n"
     ]
    },
    {
     "data": {
      "text/plain": [
       "\n",
       "\tPearson's Chi-squared test with Yates' continuity correction\n",
       "\n",
       "data:  t\n",
       "X-squared = 7.3779, df = 1, p-value = 0.006603\n"
      ]
     },
     "metadata": {},
     "output_type": "display_data"
    },
    {
     "name": "stdout",
     "output_type": "stream",
     "text": [
      "[1] \"Language\"\n",
      "      0    1\n",
      "EN 63.1 36.9\n",
      "ES 81.9 18.1\n"
     ]
    },
    {
     "data": {
      "text/plain": [
       "\n",
       "\tPearson's Chi-squared test with Yates' continuity correction\n",
       "\n",
       "data:  t\n",
       "X-squared = 18.757, df = 1, p-value = 1.485e-05\n"
      ]
     },
     "metadata": {},
     "output_type": "display_data"
    },
    {
     "name": "stdout",
     "output_type": "stream",
     "text": [
      "[1] \"yearsInUS\"\n",
      "        0    1\n",
      "<5   66.7 33.3\n",
      "11+  64.9 35.1\n",
      "6-10 74.6 25.4\n"
     ]
    },
    {
     "data": {
      "text/plain": [
       "\n",
       "\tPearson's Chi-squared test\n",
       "\n",
       "data:  t\n",
       "X-squared = 2.4969, df = 2, p-value = 0.2869\n"
      ]
     },
     "metadata": {},
     "output_type": "display_data"
    },
    {
     "name": "stdout",
     "output_type": "stream",
     "text": [
      "[1] \"knowUndocumented\"\n",
      "     0    1\n",
      "0 58.1 41.9\n",
      "1 71.8 28.2\n"
     ]
    },
    {
     "data": {
      "text/plain": [
       "\n",
       "\tPearson's Chi-squared test with Yates' continuity correction\n",
       "\n",
       "data:  t\n",
       "X-squared = 21.043, df = 1, p-value = 4.49e-06\n"
      ]
     },
     "metadata": {},
     "output_type": "display_data"
    },
    {
     "name": "stdout",
     "output_type": "stream",
     "text": [
      "[1] \"Total\"\n",
      "\n",
      "      0       1 \n",
      "65.6816 34.3184 \n",
      "[1] \"N\"\n",
      "[1] 1049\n"
     ]
    }
   ],
   "source": [
    "#Chi-squared tests for Q8\n",
    "\n",
    "#function to print out percentages and perform chi-squared test for a given characteristic and question\n",
    "chiSquared <- function(x, y, word) {\n",
    "    t <- as.data.frame.matrix(table(x,y))\n",
    "    percents <- t\n",
    "    totals <- apply(t,1,sum)\n",
    "    for(i in 1:nrow(t)) {\n",
    "        percents[i,] <- round(100*t[i,]/totals[i], 1)\n",
    "    }\n",
    "    print(word)\n",
    "    print(percents)\n",
    "    chisq.test(t)\n",
    "}\n",
    "\n",
    "#Q8\n",
    "print('Do You Agree With the Statement That Generally, All Illegal Immigrants Should Be Deported?')\n",
    "\n",
    "#use function for each characteristic of interest on Q8\n",
    "chiSquared(data$age, data$Q8, 'Age')\n",
    "chiSquared(data$gender, data$Q8, 'Gender')\n",
    "chiSquared(data$Language, data$Q8, 'Language')\n",
    "chiSquared(data$yearsInUS, data$Q8, 'yearsInUS')\n",
    "chiSquared(data$knowUndocumented, data$Q8, 'knowUndocumented')\n",
    "\n",
    "#totals for Q8\n",
    "print('Total')\n",
    "print(100*table(data$Q8)/sum(table(data$Q8)))\n",
    "\n",
    "#number of responses for Q8\n",
    "print('N')\n",
    "print(nrow(data[!is.na(data$Q8),]))"
   ]
  },
  {
   "cell_type": "code",
   "execution_count": 6,
   "metadata": {
    "code_folding": [
     0
    ]
   },
   "outputs": [],
   "source": [
    "#explanatory variables\n",
    "\n",
    "#dummy variables for different characteristics \n",
    "data$trump <- ifelse(data$Q11 == 'Trump', 1, 0)\n",
    "data$clinton <- ifelse(data$Q11 == 'Clinton', 1, 0)\n",
    "data$young <- ifelse(data$age == '18-30', 1, 0)\n",
    "data$middle <- ifelse(data$age == '31-50', 1, 0)\n",
    "data$old <- ifelse(data$age == '51+', 1, 0)\n",
    "data$yearsUS_5 <- ifelse(data$yearsInUS == '<5', 1, 0)\n",
    "data$yearsUS_6_10 <- ifelse(data$yearsInUS == '6-10', 1, 0)\n",
    "\n",
    "#interaction terms\n",
    "data$trump_old <- ifelse(data$trump == 1 & data$old == 1, 1, 0)\n",
    "data$clinton_old <- ifelse(data$clinton == 1 & data$old == 1, 1, 0)\n",
    "data$clinton_knowUndocumented <- ifelse(data$clinton == 1 & data$knowUndocumented == 1, 1, 0)\n"
   ]
  },
  {
   "cell_type": "code",
   "execution_count": 7,
   "metadata": {
    "code_folding": [
     0
    ]
   },
   "outputs": [],
   "source": [
    "#response variables\n",
    "\n",
    "#split Q20 into 3 categories\n",
    "data$discrimination <- as.factor(ifelse(data$Q20 <= 3, 'not at all', \n",
    "                      ifelse(data$Q20 < 5 & data$Q20 > 3, 'somewhat', \n",
    "                      ifelse(data$Q20 >= 5, 'very much', NA))))\n",
    "\n",
    "#convert 7-point scale questions into binary variables\n",
    "data$veryWorriedFriends <- ifelse(data$Q17_2 >= 5, 1, 0)\n",
    "data$veryWorriedFamilies <- ifelse(data$Q17_3 >= 5, 1, 0)\n",
    "data$veryWorriedEconomy <- ifelse(data$Q17_4 >= 5, 1, 0)\n",
    "data$discriminationIncreased <- ifelse(data$discrimination == 'very much', 1, 0)\n",
    "data$discriminationNotIncreased <- ifelse(data$discrimination == 'not at all', 1, 0)\n"
   ]
  },
  {
   "cell_type": "code",
   "execution_count": 8,
   "metadata": {
    "code_folding": [
     0
    ]
   },
   "outputs": [
    {
     "name": "stdout",
     "output_type": "stream",
     "text": [
      "[1] \"Logit Model 1 for whether or not participants agreed with the statement that generally, all illegal immigrants should be deported (marginal effect)\"\n",
      "[1] \"N\"\n"
     ]
    },
    {
     "data": {
      "text/html": [
       "1043"
      ],
      "text/latex": [
       "1043"
      ],
      "text/markdown": [
       "1043"
      ],
      "text/plain": [
       "[1] 1043"
      ]
     },
     "metadata": {},
     "output_type": "display_data"
    },
    {
     "data": {
      "text/html": [
       "<table>\n",
       "<caption>A summary.margins: 5 × 7</caption>\n",
       "<thead>\n",
       "\t<tr><th scope=col>factor</th><th scope=col>AME</th><th scope=col>SE</th><th scope=col>z</th><th scope=col>p</th><th scope=col>lower</th><th scope=col>upper</th></tr>\n",
       "\t<tr><th scope=col>&lt;chr&gt;</th><th scope=col>&lt;dbl&gt;</th><th scope=col>&lt;dbl&gt;</th><th scope=col>&lt;dbl&gt;</th><th scope=col>&lt;dbl&gt;</th><th scope=col>&lt;dbl&gt;</th><th scope=col>&lt;dbl&gt;</th></tr>\n",
       "</thead>\n",
       "<tbody>\n",
       "\t<tr><td>clinton         </td><td>-0.1142169</td><td>0.02908291</td><td>-3.927284</td><td>8.591038e-05</td><td>-0.1712183</td><td>-0.05721540</td></tr>\n",
       "\t<tr><td>knowUndocumented</td><td>-0.1071845</td><td>0.02578978</td><td>-4.156085</td><td>3.237476e-05</td><td>-0.1577316</td><td>-0.05663748</td></tr>\n",
       "\t<tr><td>LanguageES      </td><td>-0.1764906</td><td>0.03328375</td><td>-5.302606</td><td>1.141612e-07</td><td>-0.2417256</td><td>-0.11125567</td></tr>\n",
       "\t<tr><td>trump           </td><td> 0.3256457</td><td>0.03061113</td><td>10.638146</td><td>1.980312e-26</td><td> 0.2656490</td><td> 0.38564239</td></tr>\n",
       "\t<tr><td>young           </td><td>-0.1075557</td><td>0.02726878</td><td>-3.944279</td><td>8.004027e-05</td><td>-0.1610015</td><td>-0.05410987</td></tr>\n",
       "</tbody>\n",
       "</table>\n"
      ],
      "text/latex": [
       "A summary.margins: 5 × 7\n",
       "\\begin{tabular}{r|lllllll}\n",
       " factor & AME & SE & z & p & lower & upper\\\\\n",
       " <chr> & <dbl> & <dbl> & <dbl> & <dbl> & <dbl> & <dbl>\\\\\n",
       "\\hline\n",
       "\t clinton          & -0.1142169 & 0.02908291 & -3.927284 & 8.591038e-05 & -0.1712183 & -0.05721540\\\\\n",
       "\t knowUndocumented & -0.1071845 & 0.02578978 & -4.156085 & 3.237476e-05 & -0.1577316 & -0.05663748\\\\\n",
       "\t LanguageES       & -0.1764906 & 0.03328375 & -5.302606 & 1.141612e-07 & -0.2417256 & -0.11125567\\\\\n",
       "\t trump            &  0.3256457 & 0.03061113 & 10.638146 & 1.980312e-26 &  0.2656490 &  0.38564239\\\\\n",
       "\t young            & -0.1075557 & 0.02726878 & -3.944279 & 8.004027e-05 & -0.1610015 & -0.05410987\\\\\n",
       "\\end{tabular}\n"
      ],
      "text/markdown": [
       "\n",
       "A summary.margins: 5 × 7\n",
       "\n",
       "| factor &lt;chr&gt; | AME &lt;dbl&gt; | SE &lt;dbl&gt; | z &lt;dbl&gt; | p &lt;dbl&gt; | lower &lt;dbl&gt; | upper &lt;dbl&gt; |\n",
       "|---|---|---|---|---|---|---|\n",
       "| clinton          | -0.1142169 | 0.02908291 | -3.927284 | 8.591038e-05 | -0.1712183 | -0.05721540 |\n",
       "| knowUndocumented | -0.1071845 | 0.02578978 | -4.156085 | 3.237476e-05 | -0.1577316 | -0.05663748 |\n",
       "| LanguageES       | -0.1764906 | 0.03328375 | -5.302606 | 1.141612e-07 | -0.2417256 | -0.11125567 |\n",
       "| trump            |  0.3256457 | 0.03061113 | 10.638146 | 1.980312e-26 |  0.2656490 |  0.38564239 |\n",
       "| young            | -0.1075557 | 0.02726878 | -3.944279 | 8.004027e-05 | -0.1610015 | -0.05410987 |\n",
       "\n"
      ],
      "text/plain": [
       "  factor           AME        SE         z         p            lower     \n",
       "1 clinton          -0.1142169 0.02908291 -3.927284 8.591038e-05 -0.1712183\n",
       "2 knowUndocumented -0.1071845 0.02578978 -4.156085 3.237476e-05 -0.1577316\n",
       "3 LanguageES       -0.1764906 0.03328375 -5.302606 1.141612e-07 -0.2417256\n",
       "4 trump             0.3256457 0.03061113 10.638146 1.980312e-26  0.2656490\n",
       "5 young            -0.1075557 0.02726878 -3.944279 8.004027e-05 -0.1610015\n",
       "  upper      \n",
       "1 -0.05721540\n",
       "2 -0.05663748\n",
       "3 -0.11125567\n",
       "4  0.38564239\n",
       "5 -0.05410987"
      ]
     },
     "metadata": {},
     "output_type": "display_data"
    },
    {
     "data": {
      "text/html": [
       "<dl class=dl-horizontal>\n",
       "\t<dt>McFadden</dt>\n",
       "\t\t<dd>0.169727614008271</dd>\n",
       "\t<dt>Adj.McFadden</dt>\n",
       "\t\t<dd>0.159282449386297</dd>\n",
       "\t<dt>Cox.Snell</dt>\n",
       "\t\t<dd>0.195965174252173</dd>\n",
       "\t<dt>Nagelkerke</dt>\n",
       "\t\t<dd>0.270905812876275</dd>\n",
       "\t<dt>McKelvey.Zavoina</dt>\n",
       "\t\t<dd>0.264031557593357</dd>\n",
       "\t<dt>Effron</dt>\n",
       "\t\t<dd>0.22025874321192</dd>\n",
       "\t<dt>Count</dt>\n",
       "\t\t<dd>0.752636625119847</dd>\n",
       "\t<dt>Adj.Count</dt>\n",
       "\t\t<dd>0.277310924369748</dd>\n",
       "\t<dt>AIC</dt>\n",
       "\t\t<dd>1124.84157067574</dd>\n",
       "\t<dt>Corrected.AIC</dt>\n",
       "\t\t<dd>1124.92265175682</dd>\n",
       "</dl>\n"
      ],
      "text/latex": [
       "\\begin{description*}\n",
       "\\item[McFadden] 0.169727614008271\n",
       "\\item[Adj.McFadden] 0.159282449386297\n",
       "\\item[Cox.Snell] 0.195965174252173\n",
       "\\item[Nagelkerke] 0.270905812876275\n",
       "\\item[McKelvey.Zavoina] 0.264031557593357\n",
       "\\item[Effron] 0.22025874321192\n",
       "\\item[Count] 0.752636625119847\n",
       "\\item[Adj.Count] 0.277310924369748\n",
       "\\item[AIC] 1124.84157067574\n",
       "\\item[Corrected.AIC] 1124.92265175682\n",
       "\\end{description*}\n"
      ],
      "text/markdown": [
       "McFadden\n",
       ":   0.169727614008271Adj.McFadden\n",
       ":   0.159282449386297Cox.Snell\n",
       ":   0.195965174252173Nagelkerke\n",
       ":   0.270905812876275McKelvey.Zavoina\n",
       ":   0.264031557593357Effron\n",
       ":   0.22025874321192Count\n",
       ":   0.752636625119847Adj.Count\n",
       ":   0.277310924369748AIC\n",
       ":   1124.84157067574Corrected.AIC\n",
       ":   1124.92265175682\n",
       "\n"
      ],
      "text/plain": [
       "        McFadden     Adj.McFadden        Cox.Snell       Nagelkerke \n",
       "       0.1697276        0.1592824        0.1959652        0.2709058 \n",
       "McKelvey.Zavoina           Effron            Count        Adj.Count \n",
       "       0.2640316        0.2202587        0.7526366        0.2773109 \n",
       "             AIC    Corrected.AIC \n",
       "    1124.8415707     1124.9226518 "
      ]
     },
     "metadata": {},
     "output_type": "display_data"
    }
   ],
   "source": [
    "#Logit Model 1 for Q8\n",
    "print('Logit Model 1 for whether or not participants agreed with the statement that generally, all illegal immigrants should be deported (marginal effect)')\n",
    "\n",
    "#total observations for model \n",
    "print('N')\n",
    "nrow(data[!is.na(data$Q8) & \n",
    "                 !is.na(data$Language) &\n",
    "                 !is.na(data$knowUndocumented) & \n",
    "                 !is.na(data$age) &\n",
    "                 !is.na(data$Q11), ])\n",
    "\n",
    "#model with spanish, 18-30 years old, know undocumented, voted for Trump, and voted for Clinton\n",
    "model1 <-glm(Q8 ~ Language + young + knowUndocumented + trump + clinton,\n",
    "    family = binomial(link = \"logit\"),\n",
    "    data = data)\n",
    "\n",
    "#marginal effect\n",
    "summary(margins(model1))\n",
    "\n",
    "#percent correctly predicted and Mckelvey-Zavoina pseudo R2 for model\n",
    "PseudoR2(model1)\n",
    "\n",
    "\n"
   ]
  },
  {
   "cell_type": "code",
   "execution_count": 9,
   "metadata": {
    "code_folding": [
     0
    ]
   },
   "outputs": [
    {
     "name": "stdout",
     "output_type": "stream",
     "text": [
      "[1] \"Logit Model 2 for whether or not participants agreed with the statement that generally, all illegal immigrants should be deported (marginal effect)\"\n",
      "[1] \"N\"\n"
     ]
    },
    {
     "data": {
      "text/html": [
       "1043"
      ],
      "text/latex": [
       "1043"
      ],
      "text/markdown": [
       "1043"
      ],
      "text/plain": [
       "[1] 1043"
      ]
     },
     "metadata": {},
     "output_type": "display_data"
    },
    {
     "data": {
      "text/html": [
       "<table>\n",
       "<caption>A summary.margins: 7 × 7</caption>\n",
       "<thead>\n",
       "\t<tr><th scope=col>factor</th><th scope=col>AME</th><th scope=col>SE</th><th scope=col>z</th><th scope=col>p</th><th scope=col>lower</th><th scope=col>upper</th></tr>\n",
       "\t<tr><th scope=col>&lt;chr&gt;</th><th scope=col>&lt;dbl&gt;</th><th scope=col>&lt;dbl&gt;</th><th scope=col>&lt;dbl&gt;</th><th scope=col>&lt;dbl&gt;</th><th scope=col>&lt;dbl&gt;</th><th scope=col>&lt;dbl&gt;</th></tr>\n",
       "</thead>\n",
       "<tbody>\n",
       "\t<tr><td>clinton                 </td><td>-0.18871167</td><td>0.03839021</td><td>-4.915619</td><td>8.850228e-07</td><td>-0.26395511</td><td>-0.11346824</td></tr>\n",
       "\t<tr><td>clinton_knowUndocumented</td><td> 0.16485020</td><td>0.05246660</td><td> 3.142003</td><td>1.677963e-03</td><td> 0.06201757</td><td> 0.26768284</td></tr>\n",
       "\t<tr><td>knowUndocumented        </td><td>-0.16732434</td><td>0.03267081</td><td>-5.121524</td><td>3.030759e-07</td><td>-0.23135795</td><td>-0.10329073</td></tr>\n",
       "\t<tr><td>LanguageES              </td><td>-0.15914013</td><td>0.03254700</td><td>-4.889549</td><td>1.010672e-06</td><td>-0.22293107</td><td>-0.09534919</td></tr>\n",
       "\t<tr><td>trump                   </td><td> 0.28041510</td><td>0.03558781</td><td> 7.879526</td><td>3.286244e-15</td><td> 0.21066427</td><td> 0.35016592</td></tr>\n",
       "\t<tr><td>trump_old               </td><td> 0.26544238</td><td>0.09696579</td><td> 2.737485</td><td>6.191099e-03</td><td> 0.07539292</td><td> 0.45549185</td></tr>\n",
       "\t<tr><td>young                   </td><td>-0.09050644</td><td>0.02714166</td><td>-3.334595</td><td>8.542384e-04</td><td>-0.14370312</td><td>-0.03730976</td></tr>\n",
       "</tbody>\n",
       "</table>\n"
      ],
      "text/latex": [
       "A summary.margins: 7 × 7\n",
       "\\begin{tabular}{r|lllllll}\n",
       " factor & AME & SE & z & p & lower & upper\\\\\n",
       " <chr> & <dbl> & <dbl> & <dbl> & <dbl> & <dbl> & <dbl>\\\\\n",
       "\\hline\n",
       "\t clinton                  & -0.18871167 & 0.03839021 & -4.915619 & 8.850228e-07 & -0.26395511 & -0.11346824\\\\\n",
       "\t clinton\\_knowUndocumented &  0.16485020 & 0.05246660 &  3.142003 & 1.677963e-03 &  0.06201757 &  0.26768284\\\\\n",
       "\t knowUndocumented         & -0.16732434 & 0.03267081 & -5.121524 & 3.030759e-07 & -0.23135795 & -0.10329073\\\\\n",
       "\t LanguageES               & -0.15914013 & 0.03254700 & -4.889549 & 1.010672e-06 & -0.22293107 & -0.09534919\\\\\n",
       "\t trump                    &  0.28041510 & 0.03558781 &  7.879526 & 3.286244e-15 &  0.21066427 &  0.35016592\\\\\n",
       "\t trump\\_old                &  0.26544238 & 0.09696579 &  2.737485 & 6.191099e-03 &  0.07539292 &  0.45549185\\\\\n",
       "\t young                    & -0.09050644 & 0.02714166 & -3.334595 & 8.542384e-04 & -0.14370312 & -0.03730976\\\\\n",
       "\\end{tabular}\n"
      ],
      "text/markdown": [
       "\n",
       "A summary.margins: 7 × 7\n",
       "\n",
       "| factor &lt;chr&gt; | AME &lt;dbl&gt; | SE &lt;dbl&gt; | z &lt;dbl&gt; | p &lt;dbl&gt; | lower &lt;dbl&gt; | upper &lt;dbl&gt; |\n",
       "|---|---|---|---|---|---|---|\n",
       "| clinton                  | -0.18871167 | 0.03839021 | -4.915619 | 8.850228e-07 | -0.26395511 | -0.11346824 |\n",
       "| clinton_knowUndocumented |  0.16485020 | 0.05246660 |  3.142003 | 1.677963e-03 |  0.06201757 |  0.26768284 |\n",
       "| knowUndocumented         | -0.16732434 | 0.03267081 | -5.121524 | 3.030759e-07 | -0.23135795 | -0.10329073 |\n",
       "| LanguageES               | -0.15914013 | 0.03254700 | -4.889549 | 1.010672e-06 | -0.22293107 | -0.09534919 |\n",
       "| trump                    |  0.28041510 | 0.03558781 |  7.879526 | 3.286244e-15 |  0.21066427 |  0.35016592 |\n",
       "| trump_old                |  0.26544238 | 0.09696579 |  2.737485 | 6.191099e-03 |  0.07539292 |  0.45549185 |\n",
       "| young                    | -0.09050644 | 0.02714166 | -3.334595 | 8.542384e-04 | -0.14370312 | -0.03730976 |\n",
       "\n"
      ],
      "text/plain": [
       "  factor                   AME         SE         z         p           \n",
       "1 clinton                  -0.18871167 0.03839021 -4.915619 8.850228e-07\n",
       "2 clinton_knowUndocumented  0.16485020 0.05246660  3.142003 1.677963e-03\n",
       "3 knowUndocumented         -0.16732434 0.03267081 -5.121524 3.030759e-07\n",
       "4 LanguageES               -0.15914013 0.03254700 -4.889549 1.010672e-06\n",
       "5 trump                     0.28041510 0.03558781  7.879526 3.286244e-15\n",
       "6 trump_old                 0.26544238 0.09696579  2.737485 6.191099e-03\n",
       "7 young                    -0.09050644 0.02714166 -3.334595 8.542384e-04\n",
       "  lower       upper      \n",
       "1 -0.26395511 -0.11346824\n",
       "2  0.06201757  0.26768284\n",
       "3 -0.23135795 -0.10329073\n",
       "4 -0.22293107 -0.09534919\n",
       "5  0.21066427  0.35016592\n",
       "6  0.07539292  0.45549185\n",
       "7 -0.14370312 -0.03730976"
      ]
     },
     "metadata": {},
     "output_type": "display_data"
    },
    {
     "data": {
      "text/html": [
       "<dl class=dl-horizontal>\n",
       "\t<dt>McFadden</dt>\n",
       "\t\t<dd>0.185014853107082</dd>\n",
       "\t<dt>Adj.McFadden</dt>\n",
       "\t\t<dd>0.171585355735972</dd>\n",
       "\t<dt>Cox.Snell</dt>\n",
       "\t\t<dd>0.211606495250183</dd>\n",
       "\t<dt>Nagelkerke</dt>\n",
       "\t\t<dd>0.292528658851816</dd>\n",
       "\t<dt>McKelvey.Zavoina</dt>\n",
       "\t\t<dd>0.313465188646286</dd>\n",
       "\t<dt>Effron</dt>\n",
       "\t\t<dd>0.236195022254841</dd>\n",
       "\t<dt>Count</dt>\n",
       "\t\t<dd>0.749760306807287</dd>\n",
       "\t<dt>Adj.Count</dt>\n",
       "\t\t<dd>0.26890756302521</dd>\n",
       "\t<dt>AIC</dt>\n",
       "\t\t<dd>1108.35157792511</dd>\n",
       "\t<dt>Corrected.AIC</dt>\n",
       "\t\t<dd>1108.49084291544</dd>\n",
       "</dl>\n"
      ],
      "text/latex": [
       "\\begin{description*}\n",
       "\\item[McFadden] 0.185014853107082\n",
       "\\item[Adj.McFadden] 0.171585355735972\n",
       "\\item[Cox.Snell] 0.211606495250183\n",
       "\\item[Nagelkerke] 0.292528658851816\n",
       "\\item[McKelvey.Zavoina] 0.313465188646286\n",
       "\\item[Effron] 0.236195022254841\n",
       "\\item[Count] 0.749760306807287\n",
       "\\item[Adj.Count] 0.26890756302521\n",
       "\\item[AIC] 1108.35157792511\n",
       "\\item[Corrected.AIC] 1108.49084291544\n",
       "\\end{description*}\n"
      ],
      "text/markdown": [
       "McFadden\n",
       ":   0.185014853107082Adj.McFadden\n",
       ":   0.171585355735972Cox.Snell\n",
       ":   0.211606495250183Nagelkerke\n",
       ":   0.292528658851816McKelvey.Zavoina\n",
       ":   0.313465188646286Effron\n",
       ":   0.236195022254841Count\n",
       ":   0.749760306807287Adj.Count\n",
       ":   0.26890756302521AIC\n",
       ":   1108.35157792511Corrected.AIC\n",
       ":   1108.49084291544\n",
       "\n"
      ],
      "text/plain": [
       "        McFadden     Adj.McFadden        Cox.Snell       Nagelkerke \n",
       "       0.1850149        0.1715854        0.2116065        0.2925287 \n",
       "McKelvey.Zavoina           Effron            Count        Adj.Count \n",
       "       0.3134652        0.2361950        0.7497603        0.2689076 \n",
       "             AIC    Corrected.AIC \n",
       "    1108.3515779     1108.4908429 "
      ]
     },
     "metadata": {},
     "output_type": "display_data"
    }
   ],
   "source": [
    "#Logit Model 2 for Q8\n",
    "print('Logit Model 2 for whether or not participants agreed with the statement that generally, all illegal immigrants should be deported (marginal effect)')\n",
    "\n",
    "#total observations for model \n",
    "print('N')\n",
    "nrow(data[!is.na(data$Q8) & \n",
    "                 !is.na(data$Language) &\n",
    "                 !is.na(data$knowUndocumented) & \n",
    "                 !is.na(data$age) &\n",
    "                 !is.na(data$Q11), ])\n",
    "\n",
    "#model with Spanish, 18-30 years old, know undocumented, voted for Trump, voted for Clinton, Clinton*know undocumented, Trump*old\n",
    "model2 <-glm(Q8 ~ Language + young + knowUndocumented + trump + clinton + clinton_knowUndocumented + trump_old,\n",
    "    family = binomial(link = \"logit\"),\n",
    "    data = data)\n",
    "\n",
    "#marginal effect\n",
    "summary(margins(model2))\n",
    "\n",
    "#percent correctly predicted and Mckelvey-Zavoina pseudo R2 for model\n",
    "PseudoR2(model2)\n",
    "\n"
   ]
  },
  {
   "cell_type": "code",
   "execution_count": 10,
   "metadata": {
    "code_folding": [
     0
    ]
   },
   "outputs": [
    {
     "name": "stdout",
     "output_type": "stream",
     "text": [
      "[1] \"Logit Model for Whether or Not Participants Were Very Worried About Friends or Close Acquaintances Being Deported (Marginal Effect)\"\n",
      "[1] \"N\"\n"
     ]
    },
    {
     "data": {
      "text/html": [
       "1012"
      ],
      "text/latex": [
       "1012"
      ],
      "text/markdown": [
       "1012"
      ],
      "text/plain": [
       "[1] 1012"
      ]
     },
     "metadata": {},
     "output_type": "display_data"
    },
    {
     "data": {
      "text/html": [
       "<table>\n",
       "<caption>A summary.margins: 6 × 7</caption>\n",
       "<thead>\n",
       "\t<tr><th scope=col>factor</th><th scope=col>AME</th><th scope=col>SE</th><th scope=col>z</th><th scope=col>p</th><th scope=col>lower</th><th scope=col>upper</th></tr>\n",
       "\t<tr><th scope=col>&lt;chr&gt;</th><th scope=col>&lt;dbl&gt;</th><th scope=col>&lt;dbl&gt;</th><th scope=col>&lt;dbl&gt;</th><th scope=col>&lt;dbl&gt;</th><th scope=col>&lt;dbl&gt;</th><th scope=col>&lt;dbl&gt;</th></tr>\n",
       "</thead>\n",
       "<tbody>\n",
       "\t<tr><td>clinton         </td><td> 0.12001634</td><td>0.02840629</td><td> 4.2249912</td><td>2.389501e-05</td><td> 0.06434103</td><td> 0.17569165</td></tr>\n",
       "\t<tr><td>knowUndocumented</td><td> 0.25280615</td><td>0.02512517</td><td>10.0618691</td><td>8.143733e-24</td><td> 0.20356173</td><td> 0.30205058</td></tr>\n",
       "\t<tr><td>LanguageES      </td><td> 0.15673367</td><td>0.04484591</td><td> 3.4949378</td><td>4.741722e-04</td><td> 0.06883730</td><td> 0.24463005</td></tr>\n",
       "\t<tr><td>old             </td><td>-0.19612250</td><td>0.03829408</td><td>-5.1214837</td><td>3.031410e-07</td><td>-0.27117752</td><td>-0.12106749</td></tr>\n",
       "\t<tr><td>yearsInUS11+    </td><td>-0.15988681</td><td>0.05542560</td><td>-2.8847108</td><td>3.917734e-03</td><td>-0.26851898</td><td>-0.05125464</td></tr>\n",
       "\t<tr><td>yearsInUS6-10   </td><td>-0.03016046</td><td>0.07715097</td><td>-0.3909278</td><td>6.958506e-01</td><td>-0.18137358</td><td> 0.12105266</td></tr>\n",
       "</tbody>\n",
       "</table>\n"
      ],
      "text/latex": [
       "A summary.margins: 6 × 7\n",
       "\\begin{tabular}{r|lllllll}\n",
       " factor & AME & SE & z & p & lower & upper\\\\\n",
       " <chr> & <dbl> & <dbl> & <dbl> & <dbl> & <dbl> & <dbl>\\\\\n",
       "\\hline\n",
       "\t clinton          &  0.12001634 & 0.02840629 &  4.2249912 & 2.389501e-05 &  0.06434103 &  0.17569165\\\\\n",
       "\t knowUndocumented &  0.25280615 & 0.02512517 & 10.0618691 & 8.143733e-24 &  0.20356173 &  0.30205058\\\\\n",
       "\t LanguageES       &  0.15673367 & 0.04484591 &  3.4949378 & 4.741722e-04 &  0.06883730 &  0.24463005\\\\\n",
       "\t old              & -0.19612250 & 0.03829408 & -5.1214837 & 3.031410e-07 & -0.27117752 & -0.12106749\\\\\n",
       "\t yearsInUS11+     & -0.15988681 & 0.05542560 & -2.8847108 & 3.917734e-03 & -0.26851898 & -0.05125464\\\\\n",
       "\t yearsInUS6-10    & -0.03016046 & 0.07715097 & -0.3909278 & 6.958506e-01 & -0.18137358 &  0.12105266\\\\\n",
       "\\end{tabular}\n"
      ],
      "text/markdown": [
       "\n",
       "A summary.margins: 6 × 7\n",
       "\n",
       "| factor &lt;chr&gt; | AME &lt;dbl&gt; | SE &lt;dbl&gt; | z &lt;dbl&gt; | p &lt;dbl&gt; | lower &lt;dbl&gt; | upper &lt;dbl&gt; |\n",
       "|---|---|---|---|---|---|---|\n",
       "| clinton          |  0.12001634 | 0.02840629 |  4.2249912 | 2.389501e-05 |  0.06434103 |  0.17569165 |\n",
       "| knowUndocumented |  0.25280615 | 0.02512517 | 10.0618691 | 8.143733e-24 |  0.20356173 |  0.30205058 |\n",
       "| LanguageES       |  0.15673367 | 0.04484591 |  3.4949378 | 4.741722e-04 |  0.06883730 |  0.24463005 |\n",
       "| old              | -0.19612250 | 0.03829408 | -5.1214837 | 3.031410e-07 | -0.27117752 | -0.12106749 |\n",
       "| yearsInUS11+     | -0.15988681 | 0.05542560 | -2.8847108 | 3.917734e-03 | -0.26851898 | -0.05125464 |\n",
       "| yearsInUS6-10    | -0.03016046 | 0.07715097 | -0.3909278 | 6.958506e-01 | -0.18137358 |  0.12105266 |\n",
       "\n"
      ],
      "text/plain": [
       "  factor           AME         SE         z          p            lower      \n",
       "1 clinton           0.12001634 0.02840629  4.2249912 2.389501e-05  0.06434103\n",
       "2 knowUndocumented  0.25280615 0.02512517 10.0618691 8.143733e-24  0.20356173\n",
       "3 LanguageES        0.15673367 0.04484591  3.4949378 4.741722e-04  0.06883730\n",
       "4 old              -0.19612250 0.03829408 -5.1214837 3.031410e-07 -0.27117752\n",
       "5 yearsInUS11+     -0.15988681 0.05542560 -2.8847108 3.917734e-03 -0.26851898\n",
       "6 yearsInUS6-10    -0.03016046 0.07715097 -0.3909278 6.958506e-01 -0.18137358\n",
       "  upper      \n",
       "1  0.17569165\n",
       "2  0.30205058\n",
       "3  0.24463005\n",
       "4 -0.12106749\n",
       "5 -0.05125464\n",
       "6  0.12105266"
      ]
     },
     "metadata": {},
     "output_type": "display_data"
    },
    {
     "data": {
      "text/html": [
       "<dl class=dl-horizontal>\n",
       "\t<dt>McFadden</dt>\n",
       "\t\t<dd>0.125724266329638</dd>\n",
       "\t<dt>Adj.McFadden</dt>\n",
       "\t\t<dd>0.113943866187718</dd>\n",
       "\t<dt>Cox.Snell</dt>\n",
       "\t\t<dd>0.155265093512463</dd>\n",
       "\t<dt>Nagelkerke</dt>\n",
       "\t\t<dd>0.210187160134943</dd>\n",
       "\t<dt>McKelvey.Zavoina</dt>\n",
       "\t\t<dd>0.214043109114771</dd>\n",
       "\t<dt>Effron</dt>\n",
       "\t\t<dd>0.161129693372507</dd>\n",
       "\t<dt>Count</dt>\n",
       "\t\t<dd>0.689723320158103</dd>\n",
       "\t<dt>Adj.Count</dt>\n",
       "\t\t<dd>0.215</dd>\n",
       "\t<dt>AIC</dt>\n",
       "\t\t<dd>1201.43095057943</dd>\n",
       "\t<dt>Corrected.AIC</dt>\n",
       "\t\t<dd>1201.54250436429</dd>\n",
       "</dl>\n"
      ],
      "text/latex": [
       "\\begin{description*}\n",
       "\\item[McFadden] 0.125724266329638\n",
       "\\item[Adj.McFadden] 0.113943866187718\n",
       "\\item[Cox.Snell] 0.155265093512463\n",
       "\\item[Nagelkerke] 0.210187160134943\n",
       "\\item[McKelvey.Zavoina] 0.214043109114771\n",
       "\\item[Effron] 0.161129693372507\n",
       "\\item[Count] 0.689723320158103\n",
       "\\item[Adj.Count] 0.215\n",
       "\\item[AIC] 1201.43095057943\n",
       "\\item[Corrected.AIC] 1201.54250436429\n",
       "\\end{description*}\n"
      ],
      "text/markdown": [
       "McFadden\n",
       ":   0.125724266329638Adj.McFadden\n",
       ":   0.113943866187718Cox.Snell\n",
       ":   0.155265093512463Nagelkerke\n",
       ":   0.210187160134943McKelvey.Zavoina\n",
       ":   0.214043109114771Effron\n",
       ":   0.161129693372507Count\n",
       ":   0.689723320158103Adj.Count\n",
       ":   0.215AIC\n",
       ":   1201.43095057943Corrected.AIC\n",
       ":   1201.54250436429\n",
       "\n"
      ],
      "text/plain": [
       "        McFadden     Adj.McFadden        Cox.Snell       Nagelkerke \n",
       "       0.1257243        0.1139439        0.1552651        0.2101872 \n",
       "McKelvey.Zavoina           Effron            Count        Adj.Count \n",
       "       0.2140431        0.1611297        0.6897233        0.2150000 \n",
       "             AIC    Corrected.AIC \n",
       "    1201.4309506     1201.5425044 "
      ]
     },
     "metadata": {},
     "output_type": "display_data"
    }
   ],
   "source": [
    "#Logit Model for Q17_2\n",
    "print(\"Logit Model for Whether or Not Participants Were Very Worried About Friends or Close Acquaintances Being Deported (Marginal Effect)\")\n",
    "\n",
    "#total observations for model \n",
    "print('N')\n",
    "nrow(data[!is.na(data$Q17_2) & \n",
    "                 !is.na(data$Language) &\n",
    "                 !is.na(data$knowUndocumented) & \n",
    "                 !is.na(data$Q11) &\n",
    "                 !is.na(data$yearsInUS) &\n",
    "                 !is.na(data$age), ])\n",
    "\n",
    "#model with Spanish, know undocumented, voted for Clinton, lived in US fewer than 5 years, lived in US between 6 and 10 years, and 51+ years old\n",
    "model <-glm(veryWorriedFriends ~ Language + knowUndocumented + clinton + yearsInUS + old,\n",
    "    family = binomial(link = \"logit\"),\n",
    "    data = data)\n",
    "\n",
    "#marginal effect\n",
    "summary(margins(model))\n",
    "\n",
    "#percent correctly predicted and Mckelvey-Zavoina pseudo R2 for model\n",
    "PseudoR2(model)\n"
   ]
  },
  {
   "cell_type": "code",
   "execution_count": 11,
   "metadata": {
    "code_folding": [
     0
    ]
   },
   "outputs": [
    {
     "name": "stdout",
     "output_type": "stream",
     "text": [
      "[1] \"Logit Models for Whether or Not Participants Were Very Worried About the Separation of Families due to deportation (Marginal Effect)\"\n",
      "[1] \"N\"\n"
     ]
    },
    {
     "data": {
      "text/html": [
       "996"
      ],
      "text/latex": [
       "996"
      ],
      "text/markdown": [
       "996"
      ],
      "text/plain": [
       "[1] 996"
      ]
     },
     "metadata": {},
     "output_type": "display_data"
    },
    {
     "data": {
      "text/html": [
       "<table>\n",
       "<caption>A summary.margins: 6 × 7</caption>\n",
       "<thead>\n",
       "\t<tr><th scope=col>factor</th><th scope=col>AME</th><th scope=col>SE</th><th scope=col>z</th><th scope=col>p</th><th scope=col>lower</th><th scope=col>upper</th></tr>\n",
       "\t<tr><th scope=col>&lt;chr&gt;</th><th scope=col>&lt;dbl&gt;</th><th scope=col>&lt;dbl&gt;</th><th scope=col>&lt;dbl&gt;</th><th scope=col>&lt;dbl&gt;</th><th scope=col>&lt;dbl&gt;</th><th scope=col>&lt;dbl&gt;</th></tr>\n",
       "</thead>\n",
       "<tbody>\n",
       "\t<tr><td>clinton         </td><td> 0.12012393</td><td>0.03199954</td><td> 3.753927</td><td>1.740857e-04</td><td> 0.05740599</td><td> 0.18284188</td></tr>\n",
       "\t<tr><td>genderMale      </td><td>-0.07313912</td><td>0.02976840</td><td>-2.456938</td><td>1.401269e-02</td><td>-0.13148412</td><td>-0.01479412</td></tr>\n",
       "\t<tr><td>knowUndocumented</td><td> 0.11544509</td><td>0.02800316</td><td> 4.122573</td><td>3.746636e-05</td><td> 0.06055990</td><td> 0.17033028</td></tr>\n",
       "\t<tr><td>LanguageES      </td><td> 0.11090936</td><td>0.04199307</td><td> 2.641135</td><td>8.262876e-03</td><td> 0.02860446</td><td> 0.19321426</td></tr>\n",
       "\t<tr><td>trump           </td><td>-0.20409252</td><td>0.03734105</td><td>-5.465634</td><td>4.612561e-08</td><td>-0.27727964</td><td>-0.13090540</td></tr>\n",
       "\t<tr><td>yearsUS_5       </td><td> 0.14389158</td><td>0.05947154</td><td> 2.419503</td><td>1.554172e-02</td><td> 0.02732951</td><td> 0.26045365</td></tr>\n",
       "</tbody>\n",
       "</table>\n"
      ],
      "text/latex": [
       "A summary.margins: 6 × 7\n",
       "\\begin{tabular}{r|lllllll}\n",
       " factor & AME & SE & z & p & lower & upper\\\\\n",
       " <chr> & <dbl> & <dbl> & <dbl> & <dbl> & <dbl> & <dbl>\\\\\n",
       "\\hline\n",
       "\t clinton          &  0.12012393 & 0.03199954 &  3.753927 & 1.740857e-04 &  0.05740599 &  0.18284188\\\\\n",
       "\t genderMale       & -0.07313912 & 0.02976840 & -2.456938 & 1.401269e-02 & -0.13148412 & -0.01479412\\\\\n",
       "\t knowUndocumented &  0.11544509 & 0.02800316 &  4.122573 & 3.746636e-05 &  0.06055990 &  0.17033028\\\\\n",
       "\t LanguageES       &  0.11090936 & 0.04199307 &  2.641135 & 8.262876e-03 &  0.02860446 &  0.19321426\\\\\n",
       "\t trump            & -0.20409252 & 0.03734105 & -5.465634 & 4.612561e-08 & -0.27727964 & -0.13090540\\\\\n",
       "\t yearsUS\\_5        &  0.14389158 & 0.05947154 &  2.419503 & 1.554172e-02 &  0.02732951 &  0.26045365\\\\\n",
       "\\end{tabular}\n"
      ],
      "text/markdown": [
       "\n",
       "A summary.margins: 6 × 7\n",
       "\n",
       "| factor &lt;chr&gt; | AME &lt;dbl&gt; | SE &lt;dbl&gt; | z &lt;dbl&gt; | p &lt;dbl&gt; | lower &lt;dbl&gt; | upper &lt;dbl&gt; |\n",
       "|---|---|---|---|---|---|---|\n",
       "| clinton          |  0.12012393 | 0.03199954 |  3.753927 | 1.740857e-04 |  0.05740599 |  0.18284188 |\n",
       "| genderMale       | -0.07313912 | 0.02976840 | -2.456938 | 1.401269e-02 | -0.13148412 | -0.01479412 |\n",
       "| knowUndocumented |  0.11544509 | 0.02800316 |  4.122573 | 3.746636e-05 |  0.06055990 |  0.17033028 |\n",
       "| LanguageES       |  0.11090936 | 0.04199307 |  2.641135 | 8.262876e-03 |  0.02860446 |  0.19321426 |\n",
       "| trump            | -0.20409252 | 0.03734105 | -5.465634 | 4.612561e-08 | -0.27727964 | -0.13090540 |\n",
       "| yearsUS_5        |  0.14389158 | 0.05947154 |  2.419503 | 1.554172e-02 |  0.02732951 |  0.26045365 |\n",
       "\n"
      ],
      "text/plain": [
       "  factor           AME         SE         z         p            lower      \n",
       "1 clinton           0.12012393 0.03199954  3.753927 1.740857e-04  0.05740599\n",
       "2 genderMale       -0.07313912 0.02976840 -2.456938 1.401269e-02 -0.13148412\n",
       "3 knowUndocumented  0.11544509 0.02800316  4.122573 3.746636e-05  0.06055990\n",
       "4 LanguageES        0.11090936 0.04199307  2.641135 8.262876e-03  0.02860446\n",
       "5 trump            -0.20409252 0.03734105 -5.465634 4.612561e-08 -0.27727964\n",
       "6 yearsUS_5         0.14389158 0.05947154  2.419503 1.554172e-02  0.02732951\n",
       "  upper      \n",
       "1  0.18284188\n",
       "2 -0.01479412\n",
       "3  0.17033028\n",
       "4  0.19321426\n",
       "5 -0.13090540\n",
       "6  0.26045365"
      ]
     },
     "metadata": {},
     "output_type": "display_data"
    },
    {
     "data": {
      "text/html": [
       "<dl class=dl-horizontal>\n",
       "\t<dt>McFadden</dt>\n",
       "\t\t<dd>0.0865331114440103</dd>\n",
       "\t<dt>Adj.McFadden</dt>\n",
       "\t\t<dd>0.0742774214761567</dd>\n",
       "\t<dt>Cox.Snell</dt>\n",
       "\t\t<dd>0.107228011201395</dd>\n",
       "\t<dt>Nagelkerke</dt>\n",
       "\t\t<dd>0.146810322852121</dd>\n",
       "\t<dt>McKelvey.Zavoina</dt>\n",
       "\t\t<dd>0.141598338446611</dd>\n",
       "\t<dt>Effron</dt>\n",
       "\t\t<dd>0.114723624769178</dd>\n",
       "\t<dt>Count</dt>\n",
       "\t\t<dd>0.700803212851406</dd>\n",
       "\t<dt>Adj.Count</dt>\n",
       "\t\t<dd>0.176795580110497</dd>\n",
       "\t<dt>AIC</dt>\n",
       "\t\t<dd>1206.54568736905</dd>\n",
       "\t<dt>Corrected.AIC</dt>\n",
       "\t\t<dd>1206.65904769293</dd>\n",
       "</dl>\n"
      ],
      "text/latex": [
       "\\begin{description*}\n",
       "\\item[McFadden] 0.0865331114440103\n",
       "\\item[Adj.McFadden] 0.0742774214761567\n",
       "\\item[Cox.Snell] 0.107228011201395\n",
       "\\item[Nagelkerke] 0.146810322852121\n",
       "\\item[McKelvey.Zavoina] 0.141598338446611\n",
       "\\item[Effron] 0.114723624769178\n",
       "\\item[Count] 0.700803212851406\n",
       "\\item[Adj.Count] 0.176795580110497\n",
       "\\item[AIC] 1206.54568736905\n",
       "\\item[Corrected.AIC] 1206.65904769293\n",
       "\\end{description*}\n"
      ],
      "text/markdown": [
       "McFadden\n",
       ":   0.0865331114440103Adj.McFadden\n",
       ":   0.0742774214761567Cox.Snell\n",
       ":   0.107228011201395Nagelkerke\n",
       ":   0.146810322852121McKelvey.Zavoina\n",
       ":   0.141598338446611Effron\n",
       ":   0.114723624769178Count\n",
       ":   0.700803212851406Adj.Count\n",
       ":   0.176795580110497AIC\n",
       ":   1206.54568736905Corrected.AIC\n",
       ":   1206.65904769293\n",
       "\n"
      ],
      "text/plain": [
       "        McFadden     Adj.McFadden        Cox.Snell       Nagelkerke \n",
       "    8.653311e-02     7.427742e-02     1.072280e-01     1.468103e-01 \n",
       "McKelvey.Zavoina           Effron            Count        Adj.Count \n",
       "    1.415983e-01     1.147236e-01     7.008032e-01     1.767956e-01 \n",
       "             AIC    Corrected.AIC \n",
       "    1.206546e+03     1.206659e+03 "
      ]
     },
     "metadata": {},
     "output_type": "display_data"
    }
   ],
   "source": [
    "#Logit Model for Q17_3\n",
    "print(\"Logit Models for Whether or Not Participants Were Very Worried About the Separation of Families due to deportation (Marginal Effect)\")\n",
    "\n",
    "#total observations for model \n",
    "print('N')\n",
    "nrow(data[!is.na(data$Q17_3) & \n",
    "                 !is.na(data$Language) &\n",
    "                 !is.na(data$knowUndocumented) & \n",
    "                 !is.na(data$Q11) &\n",
    "                 !is.na(data$yearsInUS) &\n",
    "                 !is.na(data$gender), ])\n",
    "\n",
    "#model with Spanish, know undocumented, voted for Trump, voted for Clinton, male, and lived in US fewer than 5 years\n",
    "model <-glm(veryWorriedFamilies ~ Language + knowUndocumented + clinton + trump + gender + yearsUS_5,\n",
    "    family = binomial(link = \"logit\"),\n",
    "    data = data)\n",
    "\n",
    "#marginal effect\n",
    "summary(margins(model))\n",
    "\n",
    "#percent correctly predicted and Mckelvey-Zavoina pseudo R2 for model\n",
    "PseudoR2(model)\n",
    "\n"
   ]
  },
  {
   "cell_type": "code",
   "execution_count": 12,
   "metadata": {
    "code_folding": [
     0
    ]
   },
   "outputs": [
    {
     "name": "stdout",
     "output_type": "stream",
     "text": [
      "[1] \"Logit Models for Whether or Not Participants Were Very Worried About Negative Impacts on the Economy from deportation (Marginal Effect)\"\n",
      "[1] \"N\"\n"
     ]
    },
    {
     "data": {
      "text/html": [
       "1009"
      ],
      "text/latex": [
       "1009"
      ],
      "text/markdown": [
       "1009"
      ],
      "text/plain": [
       "[1] 1009"
      ]
     },
     "metadata": {},
     "output_type": "display_data"
    },
    {
     "data": {
      "text/html": [
       "<table>\n",
       "<caption>A summary.margins: 5 × 7</caption>\n",
       "<thead>\n",
       "\t<tr><th scope=col>factor</th><th scope=col>AME</th><th scope=col>SE</th><th scope=col>z</th><th scope=col>p</th><th scope=col>lower</th><th scope=col>upper</th></tr>\n",
       "\t<tr><th scope=col>&lt;chr&gt;</th><th scope=col>&lt;dbl&gt;</th><th scope=col>&lt;dbl&gt;</th><th scope=col>&lt;dbl&gt;</th><th scope=col>&lt;dbl&gt;</th><th scope=col>&lt;dbl&gt;</th><th scope=col>&lt;dbl&gt;</th></tr>\n",
       "</thead>\n",
       "<tbody>\n",
       "\t<tr><td>clinton         </td><td> 0.16447350</td><td>0.03183130</td><td> 5.167037</td><td>2.378348e-07</td><td> 0.10208530</td><td> 0.22686171</td></tr>\n",
       "\t<tr><td>knowUndocumented</td><td> 0.07208605</td><td>0.02898383</td><td> 2.487112</td><td>1.287848e-02</td><td> 0.01527878</td><td> 0.12889332</td></tr>\n",
       "\t<tr><td>LanguageES      </td><td> 0.19058960</td><td>0.03765746</td><td> 5.061138</td><td>4.167622e-07</td><td> 0.11678233</td><td> 0.26439686</td></tr>\n",
       "\t<tr><td>old             </td><td>-0.11534191</td><td>0.03565848</td><td>-3.234627</td><td>1.218016e-03</td><td>-0.18523126</td><td>-0.04545257</td></tr>\n",
       "\t<tr><td>trump           </td><td>-0.17385090</td><td>0.03857444</td><td>-4.506894</td><td>6.578356e-06</td><td>-0.24945542</td><td>-0.09824639</td></tr>\n",
       "</tbody>\n",
       "</table>\n"
      ],
      "text/latex": [
       "A summary.margins: 5 × 7\n",
       "\\begin{tabular}{r|lllllll}\n",
       " factor & AME & SE & z & p & lower & upper\\\\\n",
       " <chr> & <dbl> & <dbl> & <dbl> & <dbl> & <dbl> & <dbl>\\\\\n",
       "\\hline\n",
       "\t clinton          &  0.16447350 & 0.03183130 &  5.167037 & 2.378348e-07 &  0.10208530 &  0.22686171\\\\\n",
       "\t knowUndocumented &  0.07208605 & 0.02898383 &  2.487112 & 1.287848e-02 &  0.01527878 &  0.12889332\\\\\n",
       "\t LanguageES       &  0.19058960 & 0.03765746 &  5.061138 & 4.167622e-07 &  0.11678233 &  0.26439686\\\\\n",
       "\t old              & -0.11534191 & 0.03565848 & -3.234627 & 1.218016e-03 & -0.18523126 & -0.04545257\\\\\n",
       "\t trump            & -0.17385090 & 0.03857444 & -4.506894 & 6.578356e-06 & -0.24945542 & -0.09824639\\\\\n",
       "\\end{tabular}\n"
      ],
      "text/markdown": [
       "\n",
       "A summary.margins: 5 × 7\n",
       "\n",
       "| factor &lt;chr&gt; | AME &lt;dbl&gt; | SE &lt;dbl&gt; | z &lt;dbl&gt; | p &lt;dbl&gt; | lower &lt;dbl&gt; | upper &lt;dbl&gt; |\n",
       "|---|---|---|---|---|---|---|\n",
       "| clinton          |  0.16447350 | 0.03183130 |  5.167037 | 2.378348e-07 |  0.10208530 |  0.22686171 |\n",
       "| knowUndocumented |  0.07208605 | 0.02898383 |  2.487112 | 1.287848e-02 |  0.01527878 |  0.12889332 |\n",
       "| LanguageES       |  0.19058960 | 0.03765746 |  5.061138 | 4.167622e-07 |  0.11678233 |  0.26439686 |\n",
       "| old              | -0.11534191 | 0.03565848 | -3.234627 | 1.218016e-03 | -0.18523126 | -0.04545257 |\n",
       "| trump            | -0.17385090 | 0.03857444 | -4.506894 | 6.578356e-06 | -0.24945542 | -0.09824639 |\n",
       "\n"
      ],
      "text/plain": [
       "  factor           AME         SE         z         p            lower      \n",
       "1 clinton           0.16447350 0.03183130  5.167037 2.378348e-07  0.10208530\n",
       "2 knowUndocumented  0.07208605 0.02898383  2.487112 1.287848e-02  0.01527878\n",
       "3 LanguageES        0.19058960 0.03765746  5.061138 4.167622e-07  0.11678233\n",
       "4 old              -0.11534191 0.03565848 -3.234627 1.218016e-03 -0.18523126\n",
       "5 trump            -0.17385090 0.03857444 -4.506894 6.578356e-06 -0.24945542\n",
       "  upper      \n",
       "1  0.22686171\n",
       "2  0.12889332\n",
       "3  0.26439686\n",
       "4 -0.04545257\n",
       "5 -0.09824639"
      ]
     },
     "metadata": {},
     "output_type": "display_data"
    },
    {
     "data": {
      "text/html": [
       "<dl class=dl-horizontal>\n",
       "\t<dt>McFadden</dt>\n",
       "\t\t<dd>0.0876031079577517</dd>\n",
       "\t<dt>Adj.McFadden</dt>\n",
       "\t\t<dd>0.0772256370686737</dd>\n",
       "\t<dt>Cox.Snell</dt>\n",
       "\t\t<dd>0.11052965773859</dd>\n",
       "\t<dt>Nagelkerke</dt>\n",
       "\t\t<dd>0.149895338836116</dd>\n",
       "\t<dt>McKelvey.Zavoina</dt>\n",
       "\t\t<dd>0.144780636362572</dd>\n",
       "\t<dt>Effron</dt>\n",
       "\t\t<dd>0.116958070622935</dd>\n",
       "\t<dt>Count</dt>\n",
       "\t\t<dd>0.6798810703667</dd>\n",
       "\t<dt>Adj.Count</dt>\n",
       "\t\t<dd>0.178117048346056</dd>\n",
       "\t<dt>AIC</dt>\n",
       "\t\t<dd>1242.89302057549</dd>\n",
       "\t<dt>Corrected.AIC</dt>\n",
       "\t\t<dd>1242.97685291082</dd>\n",
       "</dl>\n"
      ],
      "text/latex": [
       "\\begin{description*}\n",
       "\\item[McFadden] 0.0876031079577517\n",
       "\\item[Adj.McFadden] 0.0772256370686737\n",
       "\\item[Cox.Snell] 0.11052965773859\n",
       "\\item[Nagelkerke] 0.149895338836116\n",
       "\\item[McKelvey.Zavoina] 0.144780636362572\n",
       "\\item[Effron] 0.116958070622935\n",
       "\\item[Count] 0.6798810703667\n",
       "\\item[Adj.Count] 0.178117048346056\n",
       "\\item[AIC] 1242.89302057549\n",
       "\\item[Corrected.AIC] 1242.97685291082\n",
       "\\end{description*}\n"
      ],
      "text/markdown": [
       "McFadden\n",
       ":   0.0876031079577517Adj.McFadden\n",
       ":   0.0772256370686737Cox.Snell\n",
       ":   0.11052965773859Nagelkerke\n",
       ":   0.149895338836116McKelvey.Zavoina\n",
       ":   0.144780636362572Effron\n",
       ":   0.116958070622935Count\n",
       ":   0.6798810703667Adj.Count\n",
       ":   0.178117048346056AIC\n",
       ":   1242.89302057549Corrected.AIC\n",
       ":   1242.97685291082\n",
       "\n"
      ],
      "text/plain": [
       "        McFadden     Adj.McFadden        Cox.Snell       Nagelkerke \n",
       "    8.760311e-02     7.722564e-02     1.105297e-01     1.498953e-01 \n",
       "McKelvey.Zavoina           Effron            Count        Adj.Count \n",
       "    1.447806e-01     1.169581e-01     6.798811e-01     1.781170e-01 \n",
       "             AIC    Corrected.AIC \n",
       "    1.242893e+03     1.242977e+03 "
      ]
     },
     "metadata": {},
     "output_type": "display_data"
    }
   ],
   "source": [
    "#Logit Model for Q17_4\n",
    "print(\"Logit Models for Whether or Not Participants Were Very Worried About Negative Impacts on the Economy from deportation (Marginal Effect)\")\n",
    "\n",
    "#total observations for model \n",
    "print('N')\n",
    "nrow(data[!is.na(data$Q17_4) & \n",
    "                 !is.na(data$Language) &\n",
    "                 !is.na(data$knowUndocumented) & \n",
    "                 !is.na(data$Q11) &\n",
    "                 !is.na(data$age), ])\n",
    "\n",
    "#model with Spanish, know Undocumented, voted for Trump, voted for Clinton, and 51+ years old\n",
    "model <-glm(veryWorriedEconomy ~ Language + knowUndocumented + clinton + trump + old,\n",
    "    family = binomial(link = \"logit\"),\n",
    "    data = data)\n",
    "\n",
    "#marginal effect\n",
    "summary(margins(model))\n",
    "\n",
    "#percent correctly predicted and Mckelvey-Zavoina pseudo R2 for model\n",
    "PseudoR2(model)\n"
   ]
  },
  {
   "cell_type": "code",
   "execution_count": 13,
   "metadata": {
    "code_folding": [
     0
    ]
   },
   "outputs": [
    {
     "name": "stdout",
     "output_type": "stream",
     "text": [
      "[1] \"For Participants Who Know an Undocumented Immigrant Living in the United States: To What Degree do Undocumented Immigrants You Know Well (Including Yourself) Worry About Participating in the Following Situations for Fear of Deportation?\"\n",
      "[1] \"Applying for scholarships/loans\"\n"
     ]
    },
    {
     "data": {
      "text/plain": [
       "\n",
       "   do not worry  worry somewhat worry very much \n",
       "           21.7            15.5            62.8 "
      ]
     },
     "metadata": {},
     "output_type": "display_data"
    },
    {
     "name": "stdout",
     "output_type": "stream",
     "text": [
      "[1] \"Health care and/or medical assistance\"\n"
     ]
    },
    {
     "data": {
      "text/plain": [
       "\n",
       "   do not worry  worry somewhat worry very much \n",
       "           14.6            14.8            70.6 "
      ]
     },
     "metadata": {},
     "output_type": "display_data"
    },
    {
     "name": "stdout",
     "output_type": "stream",
     "text": [
      "[1] \"Jobs\"\n"
     ]
    },
    {
     "data": {
      "text/plain": [
       "\n",
       "   do not worry  worry somewhat worry very much \n",
       "           15.0            13.4            71.6 "
      ]
     },
     "metadata": {},
     "output_type": "display_data"
    },
    {
     "name": "stdout",
     "output_type": "stream",
     "text": [
      "[1] \"Government welfare or assistance\"\n"
     ]
    },
    {
     "data": {
      "text/plain": [
       "\n",
       "   do not worry  worry somewhat worry very much \n",
       "           19.6            19.8            60.6 "
      ]
     },
     "metadata": {},
     "output_type": "display_data"
    },
    {
     "name": "stdout",
     "output_type": "stream",
     "text": [
      "[1] \"Reporting Crimes\"\n"
     ]
    },
    {
     "data": {
      "text/plain": [
       "\n",
       "   do not worry  worry somewhat worry very much \n",
       "           17.0            17.9            65.1 "
      ]
     },
     "metadata": {},
     "output_type": "display_data"
    },
    {
     "name": "stdout",
     "output_type": "stream",
     "text": [
      "[1] \"Attending public schools\"\n"
     ]
    },
    {
     "data": {
      "text/plain": [
       "\n",
       "   do not worry  worry somewhat worry very much \n",
       "           22.9            20.1            57.0 "
      ]
     },
     "metadata": {},
     "output_type": "display_data"
    }
   ],
   "source": [
    "#Q19\n",
    "\n",
    "print('For Participants Who Know an Undocumented Immigrant Living in the United States: To What Degree do Undocumented Immigrants You Know Well (Including Yourself) Worry About Participating in the Following Situations for Fear of Deportation?')\n",
    "\n",
    "#function to split 7-point scale question into 3 categories and print out percentages for each category\n",
    "Q19 <- function(x, word) {\n",
    "    print(word)\n",
    "    t <- table(as.factor(ifelse(x <= 3, 'do not worry', \n",
    "                         ifelse(x < 5 & x > 3, 'worry somewhat', \n",
    "                         ifelse(x >= 5, 'worry very much', NA)))))\n",
    "    round(100*t/sum(t),1)\n",
    "} \n",
    "\n",
    "#use function for each situation\n",
    "Q19(data$Q19_1, 'Applying for scholarships/loans')\n",
    "Q19(data$Q19_2, 'Health care and/or medical assistance')\n",
    "Q19(data$Q19_3, 'Jobs')\n",
    "Q19(data$Q19_4, 'Government welfare or assistance')\n",
    "Q19(data$Q19_5, 'Reporting Crimes')\n",
    "Q19(data$Q19_6, 'Attending public schools')\n",
    "\n"
   ]
  },
  {
   "cell_type": "code",
   "execution_count": 14,
   "metadata": {
    "code_folding": [
     0
    ]
   },
   "outputs": [
    {
     "name": "stdout",
     "output_type": "stream",
     "text": [
      "[1] \"Since the Election of Donald Trump, Do You Feel Levels of Discrimination Toward Latinos/Hispanics Have Increased?\"\n",
      "[1] \"Age\"\n",
      "      not at all somewhat very much\n",
      "18-30       14.8     16.1      69.1\n",
      "31-50       14.3     14.3      71.5\n",
      "51+         25.4     12.2      62.4\n"
     ]
    },
    {
     "data": {
      "text/plain": [
       "\n",
       "\tPearson's Chi-squared test\n",
       "\n",
       "data:  t\n",
       "X-squared = 14.933, df = 4, p-value = 0.004842\n"
      ]
     },
     "metadata": {},
     "output_type": "display_data"
    },
    {
     "name": "stdout",
     "output_type": "stream",
     "text": [
      "[1] \"Gender\"\n",
      "       not at all somewhat very much\n",
      "Female       13.3     14.5      72.2\n",
      "Male         21.7     14.7      63.6\n"
     ]
    },
    {
     "data": {
      "text/plain": [
       "\n",
       "\tPearson's Chi-squared test\n",
       "\n",
       "data:  t\n",
       "X-squared = 13.065, df = 2, p-value = 0.001455\n"
      ]
     },
     "metadata": {},
     "output_type": "display_data"
    },
    {
     "name": "stdout",
     "output_type": "stream",
     "text": [
      "[1] \"Language\"\n",
      "   not at all somewhat very much\n",
      "EN       18.6     14.9      66.5\n",
      "ES        5.7     12.1      82.3\n"
     ]
    },
    {
     "data": {
      "text/plain": [
       "\n",
       "\tPearson's Chi-squared test\n",
       "\n",
       "data:  t\n",
       "X-squared = 17.162, df = 2, p-value = 0.0001876\n"
      ]
     },
     "metadata": {},
     "output_type": "display_data"
    },
    {
     "name": "stdout",
     "output_type": "stream",
     "text": [
      "[1] \"yearsInUS\"\n",
      "     not at all somewhat very much\n",
      "<5         10.5     15.1      74.4\n",
      "11+        17.4     14.1      68.5\n",
      "6-10       17.2     18.8      64.1\n"
     ]
    },
    {
     "data": {
      "text/plain": [
       "\n",
       "\tPearson's Chi-squared test\n",
       "\n",
       "data:  t\n",
       "X-squared = 3.745, df = 4, p-value = 0.4416\n"
      ]
     },
     "metadata": {},
     "output_type": "display_data"
    },
    {
     "name": "stdout",
     "output_type": "stream",
     "text": [
      "[1] \"knowUndocumented\"\n",
      "  not at all somewhat very much\n",
      "0       21.4     18.5      60.1\n",
      "1       13.2     11.4      75.4\n"
     ]
    },
    {
     "data": {
      "text/plain": [
       "\n",
       "\tPearson's Chi-squared test\n",
       "\n",
       "data:  t\n",
       "X-squared = 27.146, df = 2, p-value = 1.275e-06\n"
      ]
     },
     "metadata": {},
     "output_type": "display_data"
    },
    {
     "name": "stdout",
     "output_type": "stream",
     "text": [
      "[1] \"Total\"\n",
      "\n",
      "not at all   somewhat  very much \n",
      "  16.79764   14.53831   68.66405 \n",
      "[1] \"N\"\n",
      "[1] 1018\n"
     ]
    }
   ],
   "source": [
    "#Chi-Squared table for Q20\n",
    "print('Since the Election of Donald Trump, Do You Feel Levels of Discrimination Toward Latinos/Hispanics Have Increased?')\n",
    "\n",
    "#use chi-squared function for each relevant characteristic and discrimination question\n",
    "chiSquared(data$age, data$discrimination, 'Age')\n",
    "chiSquared(data$gender, data$discrimination, 'Gender')\n",
    "chiSquared(data$Language, data$discrimination, 'Language')\n",
    "chiSquared(data$yearsInUS, data$discrimination, 'yearsInUS')\n",
    "chiSquared(data$knowUndocumented, data$discrimination, 'knowUndocumented')\n",
    "\n",
    "#discrimination question totals\n",
    "print('Total')\n",
    "print(100*table(data$discrimination)/sum(table(data$discrimination)))\n",
    "\n",
    "#number of responses for discrimination question\n",
    "print('N')\n",
    "print(nrow(data[!is.na(data$discrimination),]))\n"
   ]
  },
  {
   "cell_type": "code",
   "execution_count": 15,
   "metadata": {
    "code_folding": [
     0
    ]
   },
   "outputs": [
    {
     "name": "stdout",
     "output_type": "stream",
     "text": [
      "[1] \"Logit Model 1 for Whether or Not Participants Felt That Discrimination Had Very Much Increased Since the Election of Donald Trump (Marginal Effect)\"\n",
      "[1] \"N\"\n"
     ]
    },
    {
     "data": {
      "text/html": [
       "1012"
      ],
      "text/latex": [
       "1012"
      ],
      "text/markdown": [
       "1012"
      ],
      "text/plain": [
       "[1] 1012"
      ]
     },
     "metadata": {},
     "output_type": "display_data"
    },
    {
     "data": {
      "text/html": [
       "<table>\n",
       "<caption>A summary.margins: 4 × 7</caption>\n",
       "<thead>\n",
       "\t<tr><th scope=col>factor</th><th scope=col>AME</th><th scope=col>SE</th><th scope=col>z</th><th scope=col>p</th><th scope=col>lower</th><th scope=col>upper</th></tr>\n",
       "\t<tr><th scope=col>&lt;chr&gt;</th><th scope=col>&lt;dbl&gt;</th><th scope=col>&lt;dbl&gt;</th><th scope=col>&lt;dbl&gt;</th><th scope=col>&lt;dbl&gt;</th><th scope=col>&lt;dbl&gt;</th><th scope=col>&lt;dbl&gt;</th></tr>\n",
       "</thead>\n",
       "<tbody>\n",
       "\t<tr><td>clinton         </td><td> 0.1535598</td><td>0.02971712</td><td> 5.167386</td><td>2.373910e-07</td><td> 0.09531535</td><td> 0.2118043</td></tr>\n",
       "\t<tr><td>knowUndocumented</td><td> 0.1342353</td><td>0.02562465</td><td> 5.238524</td><td>1.618660e-07</td><td> 0.08401193</td><td> 0.1844587</td></tr>\n",
       "\t<tr><td>LanguageES      </td><td> 0.1519979</td><td>0.03427632</td><td> 4.434488</td><td>9.229153e-06</td><td> 0.08481755</td><td> 0.2191782</td></tr>\n",
       "\t<tr><td>trump           </td><td>-0.2433414</td><td>0.03085262</td><td>-7.887219</td><td>3.089946e-15</td><td>-0.30381141</td><td>-0.1828714</td></tr>\n",
       "</tbody>\n",
       "</table>\n"
      ],
      "text/latex": [
       "A summary.margins: 4 × 7\n",
       "\\begin{tabular}{r|lllllll}\n",
       " factor & AME & SE & z & p & lower & upper\\\\\n",
       " <chr> & <dbl> & <dbl> & <dbl> & <dbl> & <dbl> & <dbl>\\\\\n",
       "\\hline\n",
       "\t clinton          &  0.1535598 & 0.02971712 &  5.167386 & 2.373910e-07 &  0.09531535 &  0.2118043\\\\\n",
       "\t knowUndocumented &  0.1342353 & 0.02562465 &  5.238524 & 1.618660e-07 &  0.08401193 &  0.1844587\\\\\n",
       "\t LanguageES       &  0.1519979 & 0.03427632 &  4.434488 & 9.229153e-06 &  0.08481755 &  0.2191782\\\\\n",
       "\t trump            & -0.2433414 & 0.03085262 & -7.887219 & 3.089946e-15 & -0.30381141 & -0.1828714\\\\\n",
       "\\end{tabular}\n"
      ],
      "text/markdown": [
       "\n",
       "A summary.margins: 4 × 7\n",
       "\n",
       "| factor &lt;chr&gt; | AME &lt;dbl&gt; | SE &lt;dbl&gt; | z &lt;dbl&gt; | p &lt;dbl&gt; | lower &lt;dbl&gt; | upper &lt;dbl&gt; |\n",
       "|---|---|---|---|---|---|---|\n",
       "| clinton          |  0.1535598 | 0.02971712 |  5.167386 | 2.373910e-07 |  0.09531535 |  0.2118043 |\n",
       "| knowUndocumented |  0.1342353 | 0.02562465 |  5.238524 | 1.618660e-07 |  0.08401193 |  0.1844587 |\n",
       "| LanguageES       |  0.1519979 | 0.03427632 |  4.434488 | 9.229153e-06 |  0.08481755 |  0.2191782 |\n",
       "| trump            | -0.2433414 | 0.03085262 | -7.887219 | 3.089946e-15 | -0.30381141 | -0.1828714 |\n",
       "\n"
      ],
      "text/plain": [
       "  factor           AME        SE         z         p            lower      \n",
       "1 clinton           0.1535598 0.02971712  5.167386 2.373910e-07  0.09531535\n",
       "2 knowUndocumented  0.1342353 0.02562465  5.238524 1.618660e-07  0.08401193\n",
       "3 LanguageES        0.1519979 0.03427632  4.434488 9.229153e-06  0.08481755\n",
       "4 trump            -0.2433414 0.03085262 -7.887219 3.089946e-15 -0.30381141\n",
       "  upper     \n",
       "1  0.2118043\n",
       "2  0.1844587\n",
       "3  0.2191782\n",
       "4 -0.1828714"
      ]
     },
     "metadata": {},
     "output_type": "display_data"
    },
    {
     "data": {
      "text/html": [
       "<dl class=dl-horizontal>\n",
       "\t<dt>McFadden</dt>\n",
       "\t\t<dd>0.140289567637027</dd>\n",
       "\t<dt>Adj.McFadden</dt>\n",
       "\t\t<dd>0.130764430274745</dd>\n",
       "\t<dt>Cox.Snell</dt>\n",
       "\t\t<dd>0.160244482251187</dd>\n",
       "\t<dt>Nagelkerke</dt>\n",
       "\t\t<dd>0.225054198354706</dd>\n",
       "\t<dt>McKelvey.Zavoina</dt>\n",
       "\t\t<dd>0.218262388731225</dd>\n",
       "\t<dt>Effron</dt>\n",
       "\t\t<dd>0.177242929861649</dd>\n",
       "\t<dt>Count</dt>\n",
       "\t\t<dd>0.74802371541502</dd>\n",
       "\t<dt>Adj.Count</dt>\n",
       "\t\t<dd>0.19811320754717</dd>\n",
       "\t<dt>AIC</dt>\n",
       "\t\t<dd>1093.08413789467</dd>\n",
       "\t<dt>Corrected.AIC</dt>\n",
       "\t\t<dd>1093.14378004179</dd>\n",
       "</dl>\n"
      ],
      "text/latex": [
       "\\begin{description*}\n",
       "\\item[McFadden] 0.140289567637027\n",
       "\\item[Adj.McFadden] 0.130764430274745\n",
       "\\item[Cox.Snell] 0.160244482251187\n",
       "\\item[Nagelkerke] 0.225054198354706\n",
       "\\item[McKelvey.Zavoina] 0.218262388731225\n",
       "\\item[Effron] 0.177242929861649\n",
       "\\item[Count] 0.74802371541502\n",
       "\\item[Adj.Count] 0.19811320754717\n",
       "\\item[AIC] 1093.08413789467\n",
       "\\item[Corrected.AIC] 1093.14378004179\n",
       "\\end{description*}\n"
      ],
      "text/markdown": [
       "McFadden\n",
       ":   0.140289567637027Adj.McFadden\n",
       ":   0.130764430274745Cox.Snell\n",
       ":   0.160244482251187Nagelkerke\n",
       ":   0.225054198354706McKelvey.Zavoina\n",
       ":   0.218262388731225Effron\n",
       ":   0.177242929861649Count\n",
       ":   0.74802371541502Adj.Count\n",
       ":   0.19811320754717AIC\n",
       ":   1093.08413789467Corrected.AIC\n",
       ":   1093.14378004179\n",
       "\n"
      ],
      "text/plain": [
       "        McFadden     Adj.McFadden        Cox.Snell       Nagelkerke \n",
       "       0.1402896        0.1307644        0.1602445        0.2250542 \n",
       "McKelvey.Zavoina           Effron            Count        Adj.Count \n",
       "       0.2182624        0.1772429        0.7480237        0.1981132 \n",
       "             AIC    Corrected.AIC \n",
       "    1093.0841379     1093.1437800 "
      ]
     },
     "metadata": {},
     "output_type": "display_data"
    }
   ],
   "source": [
    "#Logit Model 1 for Q20 (has increased)\n",
    "print(\"Logit Model 1 for Whether or Not Participants Felt That Discrimination Had Very Much Increased Since the Election of Donald Trump (Marginal Effect)\")\n",
    "\n",
    "#total observations for model \n",
    "print('N')\n",
    "nrow(data[!is.na(data$discrimination) & \n",
    "                 !is.na(data$Language) &\n",
    "                 !is.na(data$knowUndocumented) & \n",
    "                 !is.na(data$Q11), ])\n",
    "\n",
    "#model with Spanish, know undocumented, voted for Trump, and voted for Clinton\n",
    "model1 <-glm(discriminationIncreased ~ Language + knowUndocumented + clinton + trump,\n",
    "    family = binomial(link = \"logit\"),\n",
    "    data = data)\n",
    "\n",
    "#marginal effect\n",
    "summary(margins(model1))\n",
    "\n",
    "#percent correctly predicted and Mckelvey-Zavoina pseudo R2 for model\n",
    "PseudoR2(model1)\n",
    "\n"
   ]
  },
  {
   "cell_type": "code",
   "execution_count": 16,
   "metadata": {
    "code_folding": [
     0
    ]
   },
   "outputs": [
    {
     "name": "stdout",
     "output_type": "stream",
     "text": [
      "[1] \"Logit Model 2 for Whether or Not Participants Felt That Discrimination Had Very Much Increased Since the Election of Donald Trump (Marginal Effect)\"\n",
      "[1] \"N\"\n"
     ]
    },
    {
     "data": {
      "text/html": [
       "1012"
      ],
      "text/latex": [
       "1012"
      ],
      "text/markdown": [
       "1012"
      ],
      "text/plain": [
       "[1] 1012"
      ]
     },
     "metadata": {},
     "output_type": "display_data"
    },
    {
     "data": {
      "text/html": [
       "<table>\n",
       "<caption>A summary.margins: 6 × 7</caption>\n",
       "<thead>\n",
       "\t<tr><th scope=col>factor</th><th scope=col>AME</th><th scope=col>SE</th><th scope=col>z</th><th scope=col>p</th><th scope=col>lower</th><th scope=col>upper</th></tr>\n",
       "\t<tr><th scope=col>&lt;chr&gt;</th><th scope=col>&lt;dbl&gt;</th><th scope=col>&lt;dbl&gt;</th><th scope=col>&lt;dbl&gt;</th><th scope=col>&lt;dbl&gt;</th><th scope=col>&lt;dbl&gt;</th><th scope=col>&lt;dbl&gt;</th></tr>\n",
       "</thead>\n",
       "<tbody>\n",
       "\t<tr><td>clinton         </td><td> 0.1187759</td><td>0.03109693</td><td> 3.819537</td><td>1.337024e-04</td><td> 0.05782702</td><td> 0.1797248</td></tr>\n",
       "\t<tr><td>clinton_old     </td><td> 0.1452457</td><td>0.06089687</td><td> 2.385110</td><td>1.707404e-02</td><td> 0.02589003</td><td> 0.2646014</td></tr>\n",
       "\t<tr><td>knowUndocumented</td><td> 0.1301478</td><td>0.02545246</td><td> 5.113367</td><td>3.164661e-07</td><td> 0.08026188</td><td> 0.1800337</td></tr>\n",
       "\t<tr><td>LanguageES      </td><td> 0.1377507</td><td>0.03394098</td><td> 4.058535</td><td>4.938148e-05</td><td> 0.07122757</td><td> 0.2042738</td></tr>\n",
       "\t<tr><td>trump           </td><td>-0.1763312</td><td>0.03542721</td><td>-4.977283</td><td>6.448296e-07</td><td>-0.24576728</td><td>-0.1068952</td></tr>\n",
       "\t<tr><td>trump_old       </td><td>-0.2563298</td><td>0.07251642</td><td>-3.534783</td><td>4.081099e-04</td><td>-0.39845939</td><td>-0.1142002</td></tr>\n",
       "</tbody>\n",
       "</table>\n"
      ],
      "text/latex": [
       "A summary.margins: 6 × 7\n",
       "\\begin{tabular}{r|lllllll}\n",
       " factor & AME & SE & z & p & lower & upper\\\\\n",
       " <chr> & <dbl> & <dbl> & <dbl> & <dbl> & <dbl> & <dbl>\\\\\n",
       "\\hline\n",
       "\t clinton          &  0.1187759 & 0.03109693 &  3.819537 & 1.337024e-04 &  0.05782702 &  0.1797248\\\\\n",
       "\t clinton\\_old      &  0.1452457 & 0.06089687 &  2.385110 & 1.707404e-02 &  0.02589003 &  0.2646014\\\\\n",
       "\t knowUndocumented &  0.1301478 & 0.02545246 &  5.113367 & 3.164661e-07 &  0.08026188 &  0.1800337\\\\\n",
       "\t LanguageES       &  0.1377507 & 0.03394098 &  4.058535 & 4.938148e-05 &  0.07122757 &  0.2042738\\\\\n",
       "\t trump            & -0.1763312 & 0.03542721 & -4.977283 & 6.448296e-07 & -0.24576728 & -0.1068952\\\\\n",
       "\t trump\\_old        & -0.2563298 & 0.07251642 & -3.534783 & 4.081099e-04 & -0.39845939 & -0.1142002\\\\\n",
       "\\end{tabular}\n"
      ],
      "text/markdown": [
       "\n",
       "A summary.margins: 6 × 7\n",
       "\n",
       "| factor &lt;chr&gt; | AME &lt;dbl&gt; | SE &lt;dbl&gt; | z &lt;dbl&gt; | p &lt;dbl&gt; | lower &lt;dbl&gt; | upper &lt;dbl&gt; |\n",
       "|---|---|---|---|---|---|---|\n",
       "| clinton          |  0.1187759 | 0.03109693 |  3.819537 | 1.337024e-04 |  0.05782702 |  0.1797248 |\n",
       "| clinton_old      |  0.1452457 | 0.06089687 |  2.385110 | 1.707404e-02 |  0.02589003 |  0.2646014 |\n",
       "| knowUndocumented |  0.1301478 | 0.02545246 |  5.113367 | 3.164661e-07 |  0.08026188 |  0.1800337 |\n",
       "| LanguageES       |  0.1377507 | 0.03394098 |  4.058535 | 4.938148e-05 |  0.07122757 |  0.2042738 |\n",
       "| trump            | -0.1763312 | 0.03542721 | -4.977283 | 6.448296e-07 | -0.24576728 | -0.1068952 |\n",
       "| trump_old        | -0.2563298 | 0.07251642 | -3.534783 | 4.081099e-04 | -0.39845939 | -0.1142002 |\n",
       "\n"
      ],
      "text/plain": [
       "  factor           AME        SE         z         p            lower      \n",
       "1 clinton           0.1187759 0.03109693  3.819537 1.337024e-04  0.05782702\n",
       "2 clinton_old       0.1452457 0.06089687  2.385110 1.707404e-02  0.02589003\n",
       "3 knowUndocumented  0.1301478 0.02545246  5.113367 3.164661e-07  0.08026188\n",
       "4 LanguageES        0.1377507 0.03394098  4.058535 4.938148e-05  0.07122757\n",
       "5 trump            -0.1763312 0.03542721 -4.977283 6.448296e-07 -0.24576728\n",
       "6 trump_old        -0.2563298 0.07251642 -3.534783 4.081099e-04 -0.39845939\n",
       "  upper     \n",
       "1  0.1797248\n",
       "2  0.2646014\n",
       "3  0.1800337\n",
       "4  0.2042738\n",
       "5 -0.1068952\n",
       "6 -0.1142002"
      ]
     },
     "metadata": {},
     "output_type": "display_data"
    },
    {
     "data": {
      "text/html": [
       "<dl class=dl-horizontal>\n",
       "\t<dt>McFadden</dt>\n",
       "\t\t<dd>0.157041346436955</dd>\n",
       "\t<dt>Adj.McFadden</dt>\n",
       "\t\t<dd>0.144341163287245</dd>\n",
       "\t<dt>Cox.Snell</dt>\n",
       "\t\t<dd>0.17757544752728</dd>\n",
       "\t<dt>Nagelkerke</dt>\n",
       "\t\t<dd>0.24939454656595</dd>\n",
       "\t<dt>McKelvey.Zavoina</dt>\n",
       "\t\t<dd>0.257325824946441</dd>\n",
       "\t<dt>Effron</dt>\n",
       "\t\t<dd>0.195264785818933</dd>\n",
       "\t<dt>Count</dt>\n",
       "\t\t<dd>0.755928853754941</dd>\n",
       "\t<dt>Adj.Count</dt>\n",
       "\t\t<dd>0.223270440251572</dd>\n",
       "\t<dt>AIC</dt>\n",
       "\t\t<dd>1075.97983903226</dd>\n",
       "\t<dt>Corrected.AIC</dt>\n",
       "\t\t<dd>1076.09139281712</dd>\n",
       "</dl>\n"
      ],
      "text/latex": [
       "\\begin{description*}\n",
       "\\item[McFadden] 0.157041346436955\n",
       "\\item[Adj.McFadden] 0.144341163287245\n",
       "\\item[Cox.Snell] 0.17757544752728\n",
       "\\item[Nagelkerke] 0.24939454656595\n",
       "\\item[McKelvey.Zavoina] 0.257325824946441\n",
       "\\item[Effron] 0.195264785818933\n",
       "\\item[Count] 0.755928853754941\n",
       "\\item[Adj.Count] 0.223270440251572\n",
       "\\item[AIC] 1075.97983903226\n",
       "\\item[Corrected.AIC] 1076.09139281712\n",
       "\\end{description*}\n"
      ],
      "text/markdown": [
       "McFadden\n",
       ":   0.157041346436955Adj.McFadden\n",
       ":   0.144341163287245Cox.Snell\n",
       ":   0.17757544752728Nagelkerke\n",
       ":   0.24939454656595McKelvey.Zavoina\n",
       ":   0.257325824946441Effron\n",
       ":   0.195264785818933Count\n",
       ":   0.755928853754941Adj.Count\n",
       ":   0.223270440251572AIC\n",
       ":   1075.97983903226Corrected.AIC\n",
       ":   1076.09139281712\n",
       "\n"
      ],
      "text/plain": [
       "        McFadden     Adj.McFadden        Cox.Snell       Nagelkerke \n",
       "       0.1570413        0.1443412        0.1775754        0.2493945 \n",
       "McKelvey.Zavoina           Effron            Count        Adj.Count \n",
       "       0.2573258        0.1952648        0.7559289        0.2232704 \n",
       "             AIC    Corrected.AIC \n",
       "    1075.9798390     1076.0913928 "
      ]
     },
     "metadata": {},
     "output_type": "display_data"
    }
   ],
   "source": [
    "#Logit Model 2 for Q20 (has increased)\n",
    "print(\"Logit Model 2 for Whether or Not Participants Felt That Discrimination Had Very Much Increased Since the Election of Donald Trump (Marginal Effect)\")\n",
    "\n",
    "#total observations for model \n",
    "print('N')\n",
    "nrow(data[!is.na(data$discrimination) & \n",
    "                 !is.na(data$Language) &\n",
    "                 !is.na(data$knowUndocumented) & \n",
    "                 !is.na(data$Q11) & \n",
    "                 !is.na(data$age), ])\n",
    "\n",
    "#model with Spanish, know undocumented, voted for Trump, voted for Clinton, Trump*old, and Clinton*old\n",
    "model2 <-glm(discriminationIncreased ~ Language + knowUndocumented + clinton + trump + trump_old + clinton_old,\n",
    "    family = binomial(link = \"logit\"),\n",
    "    data = data)\n",
    "\n",
    "#marginal effect\n",
    "summary(margins(model2))\n",
    "\n",
    "#percent correctly predicted and Mckelvey-Zavoina pseudo R2 for model\n",
    "PseudoR2(model2)\n",
    "\n"
   ]
  },
  {
   "cell_type": "code",
   "execution_count": 17,
   "metadata": {
    "code_folding": [
     0
    ]
   },
   "outputs": [
    {
     "name": "stdout",
     "output_type": "stream",
     "text": [
      "[1] \"Logit Model 1 for Whether or Not Participants Felt That Discrimination Had Not at All Increased Since the Election of Donald Trump (Marginal Effect)\"\n",
      "[1] \"N\"\n"
     ]
    },
    {
     "data": {
      "text/html": [
       "1008"
      ],
      "text/latex": [
       "1008"
      ],
      "text/markdown": [
       "1008"
      ],
      "text/plain": [
       "[1] 1008"
      ]
     },
     "metadata": {},
     "output_type": "display_data"
    },
    {
     "data": {
      "text/html": [
       "<table>\n",
       "<caption>A summary.margins: 5 × 7</caption>\n",
       "<thead>\n",
       "\t<tr><th scope=col>factor</th><th scope=col>AME</th><th scope=col>SE</th><th scope=col>z</th><th scope=col>p</th><th scope=col>lower</th><th scope=col>upper</th></tr>\n",
       "\t<tr><th scope=col>&lt;chr&gt;</th><th scope=col>&lt;dbl&gt;</th><th scope=col>&lt;dbl&gt;</th><th scope=col>&lt;dbl&gt;</th><th scope=col>&lt;dbl&gt;</th><th scope=col>&lt;dbl&gt;</th><th scope=col>&lt;dbl&gt;</th></tr>\n",
       "</thead>\n",
       "<tbody>\n",
       "\t<tr><td>clinton         </td><td>-0.12239165</td><td>0.02850307</td><td>-4.293981</td><td>1.754974e-05</td><td>-0.178256650</td><td>-0.06652666</td></tr>\n",
       "\t<tr><td>genderMale      </td><td> 0.04711786</td><td>0.02115140</td><td> 2.227647</td><td>2.590405e-02</td><td> 0.005661874</td><td> 0.08857384</td></tr>\n",
       "\t<tr><td>knowUndocumented</td><td>-0.06364044</td><td>0.02036834</td><td>-3.124478</td><td>1.781211e-03</td><td>-0.103561658</td><td>-0.02371921</td></tr>\n",
       "\t<tr><td>LanguageES      </td><td>-0.12450129</td><td>0.02365897</td><td>-5.262328</td><td>1.422425e-07</td><td>-0.170872027</td><td>-0.07813055</td></tr>\n",
       "\t<tr><td>trump           </td><td> 0.19622887</td><td>0.01924923</td><td>10.194118</td><td>2.106484e-24</td><td> 0.158501079</td><td> 0.23395666</td></tr>\n",
       "</tbody>\n",
       "</table>\n"
      ],
      "text/latex": [
       "A summary.margins: 5 × 7\n",
       "\\begin{tabular}{r|lllllll}\n",
       " factor & AME & SE & z & p & lower & upper\\\\\n",
       " <chr> & <dbl> & <dbl> & <dbl> & <dbl> & <dbl> & <dbl>\\\\\n",
       "\\hline\n",
       "\t clinton          & -0.12239165 & 0.02850307 & -4.293981 & 1.754974e-05 & -0.178256650 & -0.06652666\\\\\n",
       "\t genderMale       &  0.04711786 & 0.02115140 &  2.227647 & 2.590405e-02 &  0.005661874 &  0.08857384\\\\\n",
       "\t knowUndocumented & -0.06364044 & 0.02036834 & -3.124478 & 1.781211e-03 & -0.103561658 & -0.02371921\\\\\n",
       "\t LanguageES       & -0.12450129 & 0.02365897 & -5.262328 & 1.422425e-07 & -0.170872027 & -0.07813055\\\\\n",
       "\t trump            &  0.19622887 & 0.01924923 & 10.194118 & 2.106484e-24 &  0.158501079 &  0.23395666\\\\\n",
       "\\end{tabular}\n"
      ],
      "text/markdown": [
       "\n",
       "A summary.margins: 5 × 7\n",
       "\n",
       "| factor &lt;chr&gt; | AME &lt;dbl&gt; | SE &lt;dbl&gt; | z &lt;dbl&gt; | p &lt;dbl&gt; | lower &lt;dbl&gt; | upper &lt;dbl&gt; |\n",
       "|---|---|---|---|---|---|---|\n",
       "| clinton          | -0.12239165 | 0.02850307 | -4.293981 | 1.754974e-05 | -0.178256650 | -0.06652666 |\n",
       "| genderMale       |  0.04711786 | 0.02115140 |  2.227647 | 2.590405e-02 |  0.005661874 |  0.08857384 |\n",
       "| knowUndocumented | -0.06364044 | 0.02036834 | -3.124478 | 1.781211e-03 | -0.103561658 | -0.02371921 |\n",
       "| LanguageES       | -0.12450129 | 0.02365897 | -5.262328 | 1.422425e-07 | -0.170872027 | -0.07813055 |\n",
       "| trump            |  0.19622887 | 0.01924923 | 10.194118 | 2.106484e-24 |  0.158501079 |  0.23395666 |\n",
       "\n"
      ],
      "text/plain": [
       "  factor           AME         SE         z         p            lower       \n",
       "1 clinton          -0.12239165 0.02850307 -4.293981 1.754974e-05 -0.178256650\n",
       "2 genderMale        0.04711786 0.02115140  2.227647 2.590405e-02  0.005661874\n",
       "3 knowUndocumented -0.06364044 0.02036834 -3.124478 1.781211e-03 -0.103561658\n",
       "4 LanguageES       -0.12450129 0.02365897 -5.262328 1.422425e-07 -0.170872027\n",
       "5 trump             0.19622887 0.01924923 10.194118 2.106484e-24  0.158501079\n",
       "  upper      \n",
       "1 -0.06652666\n",
       "2  0.08857384\n",
       "3 -0.02371921\n",
       "4 -0.07813055\n",
       "5  0.23395666"
      ]
     },
     "metadata": {},
     "output_type": "display_data"
    },
    {
     "data": {
      "text/html": [
       "<dl class=dl-horizontal>\n",
       "\t<dt>McFadden</dt>\n",
       "\t\t<dd>0.233471894226034</dd>\n",
       "\t<dt>Adj.McFadden</dt>\n",
       "\t\t<dd>0.218167010013061</dd>\n",
       "\t<dt>Cox.Snell</dt>\n",
       "\t\t<dd>0.190931154648201</dd>\n",
       "\t<dt>Nagelkerke</dt>\n",
       "\t\t<dd>0.320106973068459</dd>\n",
       "\t<dt>McKelvey.Zavoina</dt>\n",
       "\t\t<dd>0.334108342809783</dd>\n",
       "\t<dt>Effron</dt>\n",
       "\t\t<dd>0.250308183412657</dd>\n",
       "\t<dt>Count</dt>\n",
       "\t\t<dd>0.858134920634921</dd>\n",
       "\t<dt>Adj.Count</dt>\n",
       "\t\t<dd>0.158823529411765</dd>\n",
       "\t<dt>AIC</dt>\n",
       "\t\t<dd>713.174431083877</dd>\n",
       "\t<dt>Corrected.AIC</dt>\n",
       "\t\t<dd>713.258347167793</dd>\n",
       "</dl>\n"
      ],
      "text/latex": [
       "\\begin{description*}\n",
       "\\item[McFadden] 0.233471894226034\n",
       "\\item[Adj.McFadden] 0.218167010013061\n",
       "\\item[Cox.Snell] 0.190931154648201\n",
       "\\item[Nagelkerke] 0.320106973068459\n",
       "\\item[McKelvey.Zavoina] 0.334108342809783\n",
       "\\item[Effron] 0.250308183412657\n",
       "\\item[Count] 0.858134920634921\n",
       "\\item[Adj.Count] 0.158823529411765\n",
       "\\item[AIC] 713.174431083877\n",
       "\\item[Corrected.AIC] 713.258347167793\n",
       "\\end{description*}\n"
      ],
      "text/markdown": [
       "McFadden\n",
       ":   0.233471894226034Adj.McFadden\n",
       ":   0.218167010013061Cox.Snell\n",
       ":   0.190931154648201Nagelkerke\n",
       ":   0.320106973068459McKelvey.Zavoina\n",
       ":   0.334108342809783Effron\n",
       ":   0.250308183412657Count\n",
       ":   0.858134920634921Adj.Count\n",
       ":   0.158823529411765AIC\n",
       ":   713.174431083877Corrected.AIC\n",
       ":   713.258347167793\n",
       "\n"
      ],
      "text/plain": [
       "        McFadden     Adj.McFadden        Cox.Snell       Nagelkerke \n",
       "       0.2334719        0.2181670        0.1909312        0.3201070 \n",
       "McKelvey.Zavoina           Effron            Count        Adj.Count \n",
       "       0.3341083        0.2503082        0.8581349        0.1588235 \n",
       "             AIC    Corrected.AIC \n",
       "     713.1744311      713.2583472 "
      ]
     },
     "metadata": {},
     "output_type": "display_data"
    }
   ],
   "source": [
    "#Logit Model 1 for Q20 (has not increased)\n",
    "print(\"Logit Model 1 for Whether or Not Participants Felt That Discrimination Had Not at All Increased Since the Election of Donald Trump (Marginal Effect)\")\n",
    "\n",
    "#total observations for model \n",
    "print('N')\n",
    "nrow(data[!is.na(data$discrimination) & \n",
    "                 !is.na(data$Language) &\n",
    "                 !is.na(data$knowUndocumented) & \n",
    "                 !is.na(data$Q11) &\n",
    "                 !is.na(data$gender), ])\n",
    "\n",
    "#model with Spanish, know undocumented, voted for Trump, voted for Clinton, and male\n",
    "model1 <-glm(discriminationNotIncreased ~ Language + knowUndocumented + clinton + trump + gender,\n",
    "    family = binomial(link = \"logit\"),\n",
    "    data = data)\n",
    "\n",
    "#marginal effect\n",
    "summary(margins(model1))\n",
    "\n",
    "#percent correctly predicted and Mckelvey-Zavoina pseudo R2 for model\n",
    "PseudoR2(model1)\n"
   ]
  },
  {
   "cell_type": "code",
   "execution_count": 18,
   "metadata": {
    "code_folding": [
     0
    ]
   },
   "outputs": [
    {
     "name": "stdout",
     "output_type": "stream",
     "text": [
      "[1] \"Logit Model 2 for Whether or Not Participants Felt That Discrimination Had Not at All Increased Since the Election of Donald Trump (Marginal Effect)\"\n",
      "[1] \"N\"\n"
     ]
    },
    {
     "data": {
      "text/html": [
       "1008"
      ],
      "text/latex": [
       "1008"
      ],
      "text/markdown": [
       "1008"
      ],
      "text/plain": [
       "[1] 1008"
      ]
     },
     "metadata": {},
     "output_type": "display_data"
    },
    {
     "data": {
      "text/html": [
       "<table>\n",
       "<caption>A summary.margins: 6 × 7</caption>\n",
       "<thead>\n",
       "\t<tr><th scope=col>factor</th><th scope=col>AME</th><th scope=col>SE</th><th scope=col>z</th><th scope=col>p</th><th scope=col>lower</th><th scope=col>upper</th></tr>\n",
       "\t<tr><th scope=col>&lt;chr&gt;</th><th scope=col>&lt;dbl&gt;</th><th scope=col>&lt;dbl&gt;</th><th scope=col>&lt;dbl&gt;</th><th scope=col>&lt;dbl&gt;</th><th scope=col>&lt;dbl&gt;</th><th scope=col>&lt;dbl&gt;</th></tr>\n",
       "</thead>\n",
       "<tbody>\n",
       "\t<tr><td>clinton         </td><td>-0.11888146</td><td>0.02792587</td><td>-4.257037</td><td>2.071539e-05</td><td>-0.173615150</td><td>-0.06414776</td></tr>\n",
       "\t<tr><td>genderMale      </td><td> 0.04492560</td><td>0.02094434</td><td> 2.144999</td><td>3.195289e-02</td><td> 0.003875447</td><td> 0.08597576</td></tr>\n",
       "\t<tr><td>knowUndocumented</td><td>-0.05584481</td><td>0.02027350</td><td>-2.754572</td><td>5.876895e-03</td><td>-0.095580129</td><td>-0.01610948</td></tr>\n",
       "\t<tr><td>LanguageES      </td><td>-0.11546515</td><td>0.02483034</td><td>-4.650163</td><td>3.316722e-06</td><td>-0.164131724</td><td>-0.06679857</td></tr>\n",
       "\t<tr><td>trump           </td><td> 0.15951219</td><td>0.02308401</td><td> 6.910073</td><td>4.844040e-12</td><td> 0.114268363</td><td> 0.20475602</td></tr>\n",
       "\t<tr><td>trump_old       </td><td> 0.10545507</td><td>0.03504962</td><td> 3.008736</td><td>2.623367e-03</td><td> 0.036759074</td><td> 0.17415107</td></tr>\n",
       "</tbody>\n",
       "</table>\n"
      ],
      "text/latex": [
       "A summary.margins: 6 × 7\n",
       "\\begin{tabular}{r|lllllll}\n",
       " factor & AME & SE & z & p & lower & upper\\\\\n",
       " <chr> & <dbl> & <dbl> & <dbl> & <dbl> & <dbl> & <dbl>\\\\\n",
       "\\hline\n",
       "\t clinton          & -0.11888146 & 0.02792587 & -4.257037 & 2.071539e-05 & -0.173615150 & -0.06414776\\\\\n",
       "\t genderMale       &  0.04492560 & 0.02094434 &  2.144999 & 3.195289e-02 &  0.003875447 &  0.08597576\\\\\n",
       "\t knowUndocumented & -0.05584481 & 0.02027350 & -2.754572 & 5.876895e-03 & -0.095580129 & -0.01610948\\\\\n",
       "\t LanguageES       & -0.11546515 & 0.02483034 & -4.650163 & 3.316722e-06 & -0.164131724 & -0.06679857\\\\\n",
       "\t trump            &  0.15951219 & 0.02308401 &  6.910073 & 4.844040e-12 &  0.114268363 &  0.20475602\\\\\n",
       "\t trump\\_old        &  0.10545507 & 0.03504962 &  3.008736 & 2.623367e-03 &  0.036759074 &  0.17415107\\\\\n",
       "\\end{tabular}\n"
      ],
      "text/markdown": [
       "\n",
       "A summary.margins: 6 × 7\n",
       "\n",
       "| factor &lt;chr&gt; | AME &lt;dbl&gt; | SE &lt;dbl&gt; | z &lt;dbl&gt; | p &lt;dbl&gt; | lower &lt;dbl&gt; | upper &lt;dbl&gt; |\n",
       "|---|---|---|---|---|---|---|\n",
       "| clinton          | -0.11888146 | 0.02792587 | -4.257037 | 2.071539e-05 | -0.173615150 | -0.06414776 |\n",
       "| genderMale       |  0.04492560 | 0.02094434 |  2.144999 | 3.195289e-02 |  0.003875447 |  0.08597576 |\n",
       "| knowUndocumented | -0.05584481 | 0.02027350 | -2.754572 | 5.876895e-03 | -0.095580129 | -0.01610948 |\n",
       "| LanguageES       | -0.11546515 | 0.02483034 | -4.650163 | 3.316722e-06 | -0.164131724 | -0.06679857 |\n",
       "| trump            |  0.15951219 | 0.02308401 |  6.910073 | 4.844040e-12 |  0.114268363 |  0.20475602 |\n",
       "| trump_old        |  0.10545507 | 0.03504962 |  3.008736 | 2.623367e-03 |  0.036759074 |  0.17415107 |\n",
       "\n"
      ],
      "text/plain": [
       "  factor           AME         SE         z         p            lower       \n",
       "1 clinton          -0.11888146 0.02792587 -4.257037 2.071539e-05 -0.173615150\n",
       "2 genderMale        0.04492560 0.02094434  2.144999 3.195289e-02  0.003875447\n",
       "3 knowUndocumented -0.05584481 0.02027350 -2.754572 5.876895e-03 -0.095580129\n",
       "4 LanguageES       -0.11546515 0.02483034 -4.650163 3.316722e-06 -0.164131724\n",
       "5 trump             0.15951219 0.02308401  6.910073 4.844040e-12  0.114268363\n",
       "6 trump_old         0.10545507 0.03504962  3.008736 2.623367e-03  0.036759074\n",
       "  upper      \n",
       "1 -0.06414776\n",
       "2  0.08597576\n",
       "3 -0.01610948\n",
       "4 -0.06679857\n",
       "5  0.20475602\n",
       "6  0.17415107"
      ]
     },
     "metadata": {},
     "output_type": "display_data"
    },
    {
     "data": {
      "text/html": [
       "<dl class=dl-horizontal>\n",
       "\t<dt>McFadden</dt>\n",
       "\t\t<dd>0.243422504899761</dd>\n",
       "\t<dt>Adj.McFadden</dt>\n",
       "\t\t<dd>0.225931208656364</dd>\n",
       "\t<dt>Cox.Snell</dt>\n",
       "\t\t<dd>0.198204149938183</dd>\n",
       "\t<dt>Nagelkerke</dt>\n",
       "\t\t<dd>0.332300564584243</dd>\n",
       "\t<dt>McKelvey.Zavoina</dt>\n",
       "\t\t<dd>0.335137756272118</dd>\n",
       "\t<dt>Effron</dt>\n",
       "\t\t<dd>0.265509619255876</dd>\n",
       "\t<dt>Count</dt>\n",
       "\t\t<dd>0.864087301587302</dd>\n",
       "\t<dt>Adj.Count</dt>\n",
       "\t\t<dd>0.194117647058824</dd>\n",
       "\t<dt>AIC</dt>\n",
       "\t\t<dd>706.072202834799</dd>\n",
       "\t<dt>Corrected.AIC</dt>\n",
       "\t\t<dd>706.184202834799</dd>\n",
       "</dl>\n"
      ],
      "text/latex": [
       "\\begin{description*}\n",
       "\\item[McFadden] 0.243422504899761\n",
       "\\item[Adj.McFadden] 0.225931208656364\n",
       "\\item[Cox.Snell] 0.198204149938183\n",
       "\\item[Nagelkerke] 0.332300564584243\n",
       "\\item[McKelvey.Zavoina] 0.335137756272118\n",
       "\\item[Effron] 0.265509619255876\n",
       "\\item[Count] 0.864087301587302\n",
       "\\item[Adj.Count] 0.194117647058824\n",
       "\\item[AIC] 706.072202834799\n",
       "\\item[Corrected.AIC] 706.184202834799\n",
       "\\end{description*}\n"
      ],
      "text/markdown": [
       "McFadden\n",
       ":   0.243422504899761Adj.McFadden\n",
       ":   0.225931208656364Cox.Snell\n",
       ":   0.198204149938183Nagelkerke\n",
       ":   0.332300564584243McKelvey.Zavoina\n",
       ":   0.335137756272118Effron\n",
       ":   0.265509619255876Count\n",
       ":   0.864087301587302Adj.Count\n",
       ":   0.194117647058824AIC\n",
       ":   706.072202834799Corrected.AIC\n",
       ":   706.184202834799\n",
       "\n"
      ],
      "text/plain": [
       "        McFadden     Adj.McFadden        Cox.Snell       Nagelkerke \n",
       "       0.2434225        0.2259312        0.1982041        0.3323006 \n",
       "McKelvey.Zavoina           Effron            Count        Adj.Count \n",
       "       0.3351378        0.2655096        0.8640873        0.1941176 \n",
       "             AIC    Corrected.AIC \n",
       "     706.0722028      706.1842028 "
      ]
     },
     "metadata": {},
     "output_type": "display_data"
    }
   ],
   "source": [
    "#Logit Model 2 for Q20 (has not increased)\n",
    "print(\"Logit Model 2 for Whether or Not Participants Felt That Discrimination Had Not at All Increased Since the Election of Donald Trump (Marginal Effect)\")\n",
    "\n",
    "#total observations for model \n",
    "print('N')\n",
    "nrow(data[!is.na(data$discrimination) & \n",
    "                 !is.na(data$Language) &\n",
    "                 !is.na(data$knowUndocumented) & \n",
    "                 !is.na(data$Q11) &\n",
    "                 !is.na(data$gender) &\n",
    "                 !is.na(data$age), ])\n",
    "\n",
    "#model with Spanish, know undocumented, voted for Trump, voted for Clinton, male, and trump*old\n",
    "model2 <-glm(discriminationNotIncreased ~ Language + knowUndocumented + clinton + trump + gender + trump_old,\n",
    "    family = binomial(link = \"logit\"),\n",
    "    data = data)\n",
    "\n",
    "#marginal effect\n",
    "summary(margins(model2))\n",
    "\n",
    "#percent correctly predicted and Mckelvey-Zavoina pseudo R2 for model\n",
    "PseudoR2(model2)"
   ]
  }
 ],
 "metadata": {
  "kernelspec": {
   "display_name": "R",
   "language": "R",
   "name": "ir"
  },
  "language_info": {
   "codemirror_mode": "r",
   "file_extension": ".r",
   "mimetype": "text/x-r-source",
   "name": "R",
   "pygments_lexer": "r",
   "version": "3.5.0"
  }
 },
 "nbformat": 4,
 "nbformat_minor": 2
}
